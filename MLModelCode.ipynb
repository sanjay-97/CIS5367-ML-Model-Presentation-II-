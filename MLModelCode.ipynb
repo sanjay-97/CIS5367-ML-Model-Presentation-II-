{
  "cells": [
    {
      "cell_type": "markdown",
      "source": [
        "# Machine Learning Model - Presentation 2\n",
        "Group Members: Sanjay Krishna Moorthy , Viswashanthi Bonala , Mitchell Moreno , Sneha Dudyala , Susmitha Haripriya Varanasi"
      ],
      "metadata": {
        "id": "K2eF9bJcfxXz"
      }
    },
    {
      "cell_type": "code",
      "execution_count": null,
      "metadata": {
        "id": "Ow9L8aeY5QfY"
      },
      "outputs": [],
      "source": [
        "# Spark init\n",
        "!wget -q https://dlcdn.apache.org/spark/spark-3.1.2/spark-3.1.2-bin-hadoop2.7.tgz \n",
        "!tar xf spark-3.1.2-bin-hadoop2.7.tgz\n",
        "import os\n",
        "os.environ[\"JAVA_HOME\"] = \"/usr/lib/jvm/default-java\"\n",
        "os.environ[\"SPARK_HOME\"] = \"/content/spark-3.1.2-bin-hadoop2.7\"\n",
        "!pip install -q findspark\n",
        "import findspark\n",
        "findspark.init()"
      ]
    },
    {
      "cell_type": "code",
      "execution_count": null,
      "metadata": {
        "colab": {
          "base_uri": "https://localhost:8080/"
        },
        "id": "Lc8Xn0S86Zi5",
        "outputId": "0b730ae9-a413-4bc5-af64-58d9cd974167"
      },
      "outputs": [
        {
          "output_type": "stream",
          "name": "stdout",
          "text": [
            "Mounted at /content/drive\n"
          ]
        }
      ],
      "source": [
        "from google.colab import drive\n",
        "drive.mount('/content/drive') "
      ]
    },
    {
      "cell_type": "code",
      "execution_count": null,
      "metadata": {
        "id": "anU3mesh8QNM"
      },
      "outputs": [],
      "source": [
        "#import Packages\n",
        "from pyspark.sql.types import *\n",
        "from pyspark.sql.functions import split, col\n",
        "import pyspark.sql.functions as func\n",
        "from pyspark.sql.functions import length"
      ]
    },
    {
      "cell_type": "code",
      "execution_count": null,
      "metadata": {
        "id": "NZBkvvZMQIF8"
      },
      "outputs": [],
      "source": [
        "from pyspark.ml.evaluation import RegressionEvaluator\n",
        "from pyspark.ml.recommendation import ALS\n",
        "from pyspark.ml.tuning import ParamGridBuilder, CrossValidator"
      ]
    },
    {
      "cell_type": "code",
      "execution_count": null,
      "metadata": {
        "id": "Z7wNNu7c8orU"
      },
      "outputs": [],
      "source": [
        "from pyspark.sql import SparkSession\n",
        "spark = SparkSession.builder\\\n",
        "        .master(\"local\")\\\n",
        "        .appName(\"Colab\")\\\n",
        "        .config('spark.ui.port', '4050')\\\n",
        "        .getOrCreate()"
      ]
    },
    {
      "cell_type": "code",
      "execution_count": null,
      "metadata": {
        "id": "0_PqgLMF8rMh"
      },
      "outputs": [],
      "source": [
        "custom_schema = StructType([\n",
        "        StructField(\"ReviewId\", IntegerType()),\n",
        "        StructField(\"RecipeId\", IntegerType()),\n",
        "        StructField(\"AuthorId\", IntegerType()),\n",
        "        StructField(\"AuthorName\", StringType()),\n",
        "        StructField(\"Rating\", IntegerType()),\n",
        "        StructField(\"Review\", StringType())\n",
        "    ])\n",
        "\n",
        "df_reviews = spark.read.csv('/content/drive/MyDrive/data/reviews.csv',schema = custom_schema, header=True)\n",
        "df_reviews = df_reviews.drop(\"DateSubmitted\")\n",
        "df_reviews = df_reviews.drop(\"DateModified\")"
      ]
    },
    {
      "cell_type": "code",
      "execution_count": null,
      "metadata": {
        "colab": {
          "base_uri": "https://localhost:8080/"
        },
        "id": "iQwKINd48wnV",
        "outputId": "28c34fff-62dc-48f3-b1cf-dbae8458ccea"
      },
      "outputs": [
        {
          "output_type": "stream",
          "name": "stdout",
          "text": [
            "+--------+--------+--------+----------------+------+--------------------+\n",
            "|ReviewId|RecipeId|AuthorId|      AuthorName|Rating|              Review|\n",
            "+--------+--------+--------+----------------+------+--------------------+\n",
            "|       2|     992|    2008|       gayg msft|     5|better than any y...|\n",
            "|       7|    4384|    1634|   Bill Hilbrich|     4|I cut back on the...|\n",
            "|       9|    4523|    2046|Gay Gilmore ckpt|     2|i think i did som...|\n",
            "|      13|    7435|    1773|   Malarkey Test|     5|easily the best i...|\n",
            "|      14|      44|    2085|      Tony Small|     5|  An excellent dish.|\n",
            "+--------+--------+--------+----------------+------+--------------------+\n",
            "only showing top 5 rows\n",
            "\n"
          ]
        }
      ],
      "source": [
        "df_reviews=df_reviews.na.drop()\n",
        "df_reviews.show(5)"
      ]
    },
    {
      "cell_type": "code",
      "execution_count": null,
      "metadata": {
        "colab": {
          "base_uri": "https://localhost:8080/"
        },
        "id": "9496otnU7xZx",
        "outputId": "225fdd85-085b-449d-f68f-5a552606b414"
      },
      "outputs": [
        {
          "output_type": "stream",
          "name": "stdout",
          "text": [
            "+--------+--------------------+--------+--------------------+--------+--------+---------+--------------------+--------------------+--------------+--------------------+--------------------------+---------------------+----------------+-----------+--------+----------+-------------------+------------------+-------------+-------------------+------------+------------+--------------+--------------+------------+--------------------+\n",
            "|RecipeId|                Name|AuthorId|          AuthorName|CookTime|PrepTime|TotalTime|       DatePublished|         Description|RecipeCategory|            Keywords|RecipeIngredientQuantities|RecipeIngredientParts|AggregatedRating|ReviewCount|Calories|FatContent|SaturatedFatContent|CholesterolContent|SodiumContent|CarbohydrateContent|FiberContent|SugarContent|ProteinContent|RecipeServings| RecipeYield|  RecipeInstructions|\n",
            "+--------+--------------------+--------+--------------------+--------+--------+---------+--------------------+--------------------+--------------+--------------------+--------------------------+---------------------+----------------+-----------+--------+----------+-------------------+------------------+-------------+-------------------+------------+------------+--------------+--------------+------------+--------------------+\n",
            "|      39|             Biryani|    1567|            elly9812|   PT25M|    PT4H|  PT4H25M|1999-08-29T13:12:00Z|Make and share th...|Chicken Breast|c(\"Chicken Thigh ...|      c(\"1\", \"4\", \"2\", ...| c(\"saffron\", \"mil...|             3.0|          1|  1110.7|      58.8|               16.6|             372.8|        368.4|               84.4|         9.0|        20.4|          63.4|             6|          NA|c(\"Soak saffron i...|\n",
            "|      40|       Best Lemonade|    1566|      Stephen Little|    PT5M|   PT30M|    PT35M|1999-09-05T19:52:00Z|This is from one ...|     Beverages|c(\"Low Protein\", ...|      c(\"1 1/2\", \"1\", N...| c(\"sugar\", \"lemon...|             4.5|         10|   311.1|       0.2|                0.0|               0.0|          1.8|               81.5|         0.4|        77.2|           0.3|             4|          NA|c(\"Into a 1 quart...|\n",
            "|      41|Carina's Tofu-Veg...|    1586|             Cyclopz|   PT20M|   PT24H| PT24H20M|1999-09-03T14:54:00Z|This dish is best...|      Soy/Tofu|c(\"Beans\", \"Veget...|      c(\"12\", \"1\", \"2\",...| c(\"extra firm tof...|             4.5|          2|   536.1|      24.0|                3.8|               0.0|       1558.6|               64.2|        17.3|        32.1|          29.3|             2|    4 kebabs|c(\"Drain the tofu...|\n",
            "|      42|        Cabbage Soup|    1538|           Duckie067|   PT30M|   PT20M|    PT50M|1999-09-19T06:19:00Z|Make and share th...|     Vegetable|c(\"Low Protein\", ...|      c(\"46\", \"4\", \"1\",...| c(\"plain tomato j...|             4.5|         11|   103.6|       0.4|                0.1|               0.0|        959.3|               25.1|         4.8|        17.7|           4.3|             4|          NA|c(\"Mix everything...|\n",
            "|      43|Best Blackbottom Pie|   34879|Barefoot Beachcomber|    PT2H|   PT20M|  PT2H20M|1999-08-21T10:35:00Z|Make and share th...|           Pie|c(\"Dessert\", \"Wee...|      c(\"1 1/4\", \"1/4\",...| c(\"graham cracker...|             1.0|          1|   437.9|      19.3|               10.9|              94.3|        267.6|               58.0|         1.8|        42.5|           7.0|             8|1 9-inch pie|c(\"Graham Cracker...|\n",
            "+--------+--------------------+--------+--------------------+--------+--------+---------+--------------------+--------------------+--------------+--------------------+--------------------------+---------------------+----------------+-----------+--------+----------+-------------------+------------------+-------------+-------------------+------------+------------+--------------+--------------+------------+--------------------+\n",
            "only showing top 5 rows\n",
            "\n"
          ]
        }
      ],
      "source": [
        "custom_schema2 = StructType([\n",
        "        StructField(\"RecipeId\", IntegerType()),\n",
        "        StructField(\"Name\", StringType()),\n",
        "        StructField(\"AuthorId\", StringType()),\n",
        "        StructField(\"AuthorName\", StringType()),\n",
        "        StructField(\"CookTime\", StringType()),\n",
        "        StructField(\"PrepTime\", StringType()),\n",
        "        StructField(\"TotalTime\", StringType()),\n",
        "        StructField(\"DatePublished\", StringType()),\n",
        "        StructField(\"Description\", StringType()),\n",
        "        StructField(\"Images\", StringType()),\n",
        "        StructField(\"RecipeCategory\", StringType()),\n",
        "        StructField(\"Keywords\", StringType()),\n",
        "        StructField(\"RecipeIngredientQuantities\", StringType()),\n",
        "        StructField(\"RecipeIngredientParts\", StringType()),\n",
        "        StructField(\"AggregatedRating\", FloatType()),\n",
        "        StructField(\"ReviewCount\", StringType()),\n",
        "        StructField(\"Calories\", FloatType()),\n",
        "        StructField(\"FatContent\", FloatType()),\n",
        "        StructField(\"SaturatedFatContent\", FloatType()),\n",
        "        StructField(\"CholesterolContent\", FloatType()),\n",
        "        StructField(\"SodiumContent\", FloatType()),\n",
        "        StructField(\"CarbohydrateContent\", FloatType()),\n",
        "        StructField(\"FiberContent\", FloatType()),\n",
        "        StructField(\"SugarContent\", FloatType()),\n",
        "        StructField(\"ProteinContent\", FloatType()),\n",
        "        StructField(\"RecipeServings\", StringType()),\n",
        "        StructField(\"RecipeYield\", StringType()),\n",
        "        StructField(\"RecipeInstructions\", StringType())\n",
        "    ])\n",
        "df_recipes = spark.read.csv('/content/drive/MyDrive/data/recipes.csv',schema = custom_schema2, header=True,escape='\"')\n",
        "df_recipes = df_recipes.drop(\"Images\")\n",
        "df_recipes = df_recipes.na.drop()\n",
        "\n",
        "df_recipes.show(5)"
      ]
    },
    {
      "cell_type": "code",
      "execution_count": null,
      "metadata": {
        "colab": {
          "base_uri": "https://localhost:8080/"
        },
        "id": "ruGKIteR8NEO",
        "outputId": "6c5655ca-4743-455e-d2a7-d4383e0c28db"
      },
      "outputs": [
        {
          "output_type": "stream",
          "name": "stdout",
          "text": [
            "+--------+----------+--------+--------------------+------+--------------------+--------+--------+---------+--------------+----------------+-----------------+---------------------+--------+----------+-------------------+------------------+-------------+-------------------+------------+------------+--------------+--------------+\n",
            "|ReviewId|ReviewerId|RecipeId|          RecipeName|Rating|              Review|CookTime|PrepTime|TotalTime|RecipeCategory|AggregatedRating|RecipeReviewCount|RecipeIngredientParts|Calories|FatContent|SaturatedFatContent|CholesterolContent|SodiumContent|CarbohydrateContent|FiberContent|SugarContent|ProteinContent|RecipeServings|\n",
            "+--------+----------+--------+--------------------+------+--------------------+--------+--------+---------+--------------+----------------+-----------------+---------------------+--------+----------+-------------------+------------------+-------------+-------------------+------------+------------+--------------+--------------+\n",
            "|  137709|    146824|     463|Cappuccino Coffee...|     0|I tried this reci...|      NA|   PT20M|    PT20M|     Beverages|             4.5|                7| c(\"instant coffee...|    54.3|       2.2|                2.0|               0.0|         12.4|                8.0|         0.1|         6.8|           0.7|            15|\n",
            "|  138400|    133174|     463|Cappuccino Coffee...|     5|I have had this r...|      NA|   PT20M|    PT20M|     Beverages|             4.5|                7| c(\"instant coffee...|    54.3|       2.2|                2.0|               0.0|         12.4|                8.0|         0.1|         6.8|           0.7|            15|\n",
            "|  139158|     67395|     463|Cappuccino Coffee...|     5|I found this in t...|      NA|   PT20M|    PT20M|     Beverages|             4.5|                7| c(\"instant coffee...|    54.3|       2.2|                2.0|               0.0|         12.4|                8.0|         0.1|         6.8|           0.7|            15|\n",
            "|  152220|    179713|     463|Cappuccino Coffee...|     5|I really liked th...|      NA|   PT20M|    PT20M|     Beverages|             4.5|                7| c(\"instant coffee...|    54.3|       2.2|                2.0|               0.0|         12.4|                8.0|         0.1|         6.8|           0.7|            15|\n",
            "|  152268|     82737|     463|Cappuccino Coffee...|     5|My son made this ...|      NA|   PT20M|    PT20M|     Beverages|             4.5|                7| c(\"instant coffee...|    54.3|       2.2|                2.0|               0.0|         12.4|                8.0|         0.1|         6.8|           0.7|            15|\n",
            "|  412993|    169430|     463|Cappuccino Coffee...|     5|This is lovely. T...|      NA|   PT20M|    PT20M|     Beverages|             4.5|                7| c(\"instant coffee...|    54.3|       2.2|                2.0|               0.0|         12.4|                8.0|         0.1|         6.8|           0.7|            15|\n",
            "|  558577|    335737|     463|Cappuccino Coffee...|     1|I don't understan...|      NA|   PT20M|    PT20M|     Beverages|             4.5|                7| c(\"instant coffee...|    54.3|       2.2|                2.0|               0.0|         12.4|                8.0|         0.1|         6.8|           0.7|            15|\n",
            "|      45|      2625|     471|Seared Salmon wit...|     3|I never tasted it...|    PT9M| PT1H10M|  PT1H19M|        Summer|             4.0|                3| c(\"salmon fillets...|   797.3|      38.2|                8.0|             156.5|        823.9|               36.2|         3.1|         9.4|          71.3|             6|\n",
            "|  100942|     39835|     471|Seared Salmon wit...|     5|Delicious and fai...|    PT9M| PT1H10M|  PT1H19M|        Summer|             4.0|                3| c(\"salmon fillets...|   797.3|      38.2|                8.0|             156.5|        823.9|               36.2|         3.1|         9.4|          71.3|             6|\n",
            "|  553894|     65768|     471|Seared Salmon wit...|     3|We stuck quite cl...|    PT9M| PT1H10M|  PT1H19M|        Summer|             4.0|                3| c(\"salmon fillets...|   797.3|      38.2|                8.0|             156.5|        823.9|               36.2|         3.1|         9.4|          71.3|             6|\n",
            "+--------+----------+--------+--------------------+------+--------------------+--------+--------+---------+--------------+----------------+-----------------+---------------------+--------+----------+-------------------+------------------+-------------+-------------------+------------+------------+--------------+--------------+\n",
            "only showing top 10 rows\n",
            "\n"
          ]
        }
      ],
      "source": [
        "df_RecipeReviews = df_reviews.join(df_recipes, 'RecipeId') \\\n",
        "                             .select(df_reviews['ReviewId'],\n",
        "                                     df_reviews['AuthorId'].alias('ReviewerId'),\n",
        "                                     df_reviews['RecipeId'],\n",
        "                                     df_recipes['Name'].alias('RecipeName'),\n",
        "                                     df_reviews['Rating'],\n",
        "                                     df_reviews['Review'],\n",
        "                                     df_recipes['CookTime'],\n",
        "                                     df_recipes['PrepTime'],\n",
        "                                     df_recipes['TotalTime'],\n",
        "                                     df_recipes['RecipeCategory'],\n",
        "                                     df_recipes['AggregatedRating'],\n",
        "                                     df_recipes['ReviewCount'].alias('RecipeReviewCount'),\n",
        "                                     df_recipes['RecipeIngredientParts'],\n",
        "                                     df_recipes['Calories'],\n",
        "                                     df_recipes['FatContent'],\n",
        "                                     df_recipes['SaturatedFatContent'],\n",
        "                                     df_recipes['CholesterolContent'],\n",
        "                                     df_recipes['SodiumContent'],\n",
        "                                     df_recipes['CarbohydrateContent'],\n",
        "                                     df_recipes['FiberContent'],\n",
        "                                     df_recipes['SugarContent'],\n",
        "                                     df_recipes['ProteinContent'],\n",
        "                                     df_recipes['RecipeServings'],\n",
        "                                    )\n",
        "\n",
        "df_RecipeReviews.show(10)"
      ]
    },
    {
      "cell_type": "code",
      "execution_count": null,
      "metadata": {
        "colab": {
          "base_uri": "https://localhost:8080/"
        },
        "id": "vvcN63lM8OXW",
        "outputId": "b94ad2d1-099c-45e6-d038-3265756fe11b"
      },
      "outputs": [
        {
          "output_type": "stream",
          "name": "stdout",
          "text": [
            "root\n",
            " |-- ReviewId: integer (nullable = true)\n",
            " |-- ReviewerId: integer (nullable = true)\n",
            " |-- RecipeId: integer (nullable = true)\n",
            " |-- RecipeName: string (nullable = true)\n",
            " |-- Rating: integer (nullable = true)\n",
            " |-- Review: string (nullable = true)\n",
            " |-- CookTime: string (nullable = true)\n",
            " |-- PrepTime: string (nullable = true)\n",
            " |-- TotalTime: string (nullable = true)\n",
            " |-- RecipeCategory: string (nullable = true)\n",
            " |-- AggregatedRating: float (nullable = true)\n",
            " |-- RecipeReviewCount: string (nullable = true)\n",
            " |-- RecipeIngredientParts: array (nullable = true)\n",
            " |    |-- element: string (containsNull = true)\n",
            " |-- Calories: float (nullable = true)\n",
            " |-- FatContent: float (nullable = true)\n",
            " |-- SaturatedFatContent: float (nullable = true)\n",
            " |-- CholesterolContent: float (nullable = true)\n",
            " |-- SodiumContent: float (nullable = true)\n",
            " |-- CarbohydrateContent: float (nullable = true)\n",
            " |-- FiberContent: float (nullable = true)\n",
            " |-- SugarContent: float (nullable = true)\n",
            " |-- ProteinContent: float (nullable = true)\n",
            " |-- RecipeServings: string (nullable = true)\n",
            "\n",
            "+--------+----------+--------+---------------------+------+--------------------------------------------------------------------------------------------------------------------------------------------------------------------------------------------------------------------------------------------------------------------------------------------------------------------------------------------------------------------------------------------------------------------------------------------------------------------------------------+--------+--------+---------+--------------+----------------+-----------------+-------------------------------------------------------+--------+----------+-------------------+------------------+-------------+-------------------+------------+------------+--------------+--------------+\n",
            "|ReviewId|ReviewerId|RecipeId|RecipeName           |Rating|Review                                                                                                                                                                                                                                                                                                                                                                                                                                                                                |CookTime|PrepTime|TotalTime|RecipeCategory|AggregatedRating|RecipeReviewCount|RecipeIngredientParts                                  |Calories|FatContent|SaturatedFatContent|CholesterolContent|SodiumContent|CarbohydrateContent|FiberContent|SugarContent|ProteinContent|RecipeServings|\n",
            "+--------+----------+--------+---------------------+------+--------------------------------------------------------------------------------------------------------------------------------------------------------------------------------------------------------------------------------------------------------------------------------------------------------------------------------------------------------------------------------------------------------------------------------------------------------------------------------------+--------+--------+---------+--------------+----------------+-----------------+-------------------------------------------------------+--------+----------+-------------------+------------------+-------------+-------------------+------------+------------+--------------+--------------+\n",
            "|137709  |146824    |463     |Cappuccino Coffee Mix|0     |I tried this recipe out in two batches for Christmas gifts.  The first batch I made my own dried orange peel by scrapping the zest off a couple of mandarin oranges, then letting it dry overnight on a cake rack with paper towel on it (when it was dry it crushed easily in your fingers).  I made a second batch without the orange and liked it just as much (and it took a fraction of the time). I doubled the sugar though so it tasted more sweet than bitter.  Great recipe!|NA      |PT20M   |PT20M    |Beverages     |4.5             |7                |[instant coffee granules,  granulated sugar,  cinnamon]|54.3    |2.2       |2.0                |0.0               |12.4         |8.0                |0.1         |6.8         |0.7           |15            |\n",
            "|138400  |133174    |463     |Cappuccino Coffee Mix|5     |I have had this recipe for years and years.  Made it over the years for Christmas presents.  This year I put about 1 cup of mix in a ziploc bag, put the bag in a Christmas mug, wrapped in colored plastic wrap, attached recipe and a bow.  Presents for the gang at work.                                                                                                                                                                                                          |NA      |PT20M   |PT20M    |Beverages     |4.5             |7                |[instant coffee granules,  granulated sugar,  cinnamon]|54.3    |2.2       |2.0                |0.0               |12.4         |8.0                |0.1         |6.8         |0.7           |15            |\n",
            "|139158  |67395     |463     |Cappuccino Coffee Mix|5     |I found this in the Company's Coming Christmas book a few years ago and made it as Christmas gifts.  Everyone really enjoyed it. I actually didn't worry about drying the orange zest and it worked just fine.                                                                                                                                                                                                                                                                        |NA      |PT20M   |PT20M    |Beverages     |4.5             |7                |[instant coffee granules,  granulated sugar,  cinnamon]|54.3    |2.2       |2.0                |0.0               |12.4         |8.0                |0.1         |6.8         |0.7           |15            |\n",
            "|152220  |179713    |463     |Cappuccino Coffee Mix|5     |I really liked this. I'm not into orange so I didn't think I would like it but, that hint of orange at the end was actually quite nice!                                                                                                                                                                                                                                                                                                                                               |NA      |PT20M   |PT20M    |Beverages     |4.5             |7                |[instant coffee granules,  granulated sugar,  cinnamon]|54.3    |2.2       |2.0                |0.0               |12.4         |8.0                |0.1         |6.8         |0.7           |15            |\n",
            "|152268  |82737     |463     |Cappuccino Coffee Mix|5     |My son made this and packaged it in some pretty tins and bottles and gave it out as Christmas presents.  Everyone loved it and have been asking him for the recipe!                                                                                                                                                                                                                                                                                                                   |NA      |PT20M   |PT20M    |Beverages     |4.5             |7                |[instant coffee granules,  granulated sugar,  cinnamon]|54.3    |2.2       |2.0                |0.0               |12.4         |8.0                |0.1         |6.8         |0.7           |15            |\n",
            "+--------+----------+--------+---------------------+------+--------------------------------------------------------------------------------------------------------------------------------------------------------------------------------------------------------------------------------------------------------------------------------------------------------------------------------------------------------------------------------------------------------------------------------------------------------------------------------------+--------+--------+---------+--------------+----------------+-----------------+-------------------------------------------------------+--------+----------+-------------------+------------------+-------------+-------------------+------------+------------+--------------+--------------+\n",
            "only showing top 5 rows\n",
            "\n"
          ]
        }
      ],
      "source": [
        "# Changes the ingredients to an array and shows the schema and the dataframe\n",
        "df_RecipeReviews = df_RecipeReviews.withColumn(\"RecipeIngredientParts\", func.expr(\"substring(RecipeIngredientParts, 2)\"))\n",
        "df_RecipeReviews = df_RecipeReviews.withColumn(\"RecipeIngredientParts\", func.translate(func.col(\"RecipeIngredientParts\"), '()\"', ''))\n",
        "df_RecipeReviews = df_RecipeReviews.withColumn(\"RecipeIngredientParts\", split(col('RecipeIngredientParts'), ','))\n",
        "df_RecipeReviews.printSchema()\n",
        "df_RecipeReviews.show(5, truncate = False)"
      ]
    },
    {
      "cell_type": "markdown",
      "metadata": {
        "id": "ldycx1iv8wdU"
      },
      "source": [
        "# Creating Recipe Recommendation Engine"
      ]
    },
    {
      "cell_type": "markdown",
      "metadata": {
        "id": "7MUaOoXy--p1"
      },
      "source": [
        "Recipe Rating ALS Recommendation Model"
      ]
    },
    {
      "cell_type": "code",
      "execution_count": null,
      "metadata": {
        "id": "7paSc15CxMZM"
      },
      "outputs": [],
      "source": [
        "index_df = df_RecipeReviews.select(df_RecipeReviews['RecipeID'], df_RecipeReviews['RecipeName'])"
      ]
    },
    {
      "cell_type": "code",
      "execution_count": null,
      "metadata": {
        "id": "jAt3hOq9P9hh"
      },
      "outputs": [],
      "source": [
        "reviews_indexed = df_RecipeReviews.select(df_RecipeReviews['ReviewerID'], df_RecipeReviews['RecipeID'], df_RecipeReviews['Rating'])"
      ]
    },
    {
      "cell_type": "code",
      "execution_count": null,
      "metadata": {
        "id": "hW55k4wwaG9a",
        "colab": {
          "base_uri": "https://localhost:8080/"
        },
        "outputId": "697ee00e-2729-49b1-9953-4d59d8989aff"
      },
      "outputs": [
        {
          "output_type": "stream",
          "name": "stdout",
          "text": [
            "The total number of reviewers is 157500.\n"
          ]
        }
      ],
      "source": [
        "numReviewers = reviews_indexed.select('ReviewerID').distinct().count()\n",
        "print('The total number of reviewers is ' + str(numReviewers) + '.')"
      ]
    },
    {
      "cell_type": "code",
      "execution_count": null,
      "metadata": {
        "id": "OrDDXjSlaRYh",
        "colab": {
          "base_uri": "https://localhost:8080/"
        },
        "outputId": "e87906ed-9ad3-4477-d58c-57fd465146d1"
      },
      "outputs": [
        {
          "output_type": "stream",
          "name": "stdout",
          "text": [
            "The total number of recipes is 229665.\n"
          ]
        }
      ],
      "source": [
        "numRecipes = reviews_indexed.select('RecipeID').distinct().count()\n",
        "print('The total number of recipes is ' + str(numRecipes) + '.')"
      ]
    },
    {
      "cell_type": "code",
      "execution_count": null,
      "metadata": {
        "colab": {
          "base_uri": "https://localhost:8080/"
        },
        "id": "iFwPy9Bk_Aon",
        "outputId": "35b8f989-2710-403a-85d9-4e255698439f"
      },
      "outputs": [
        {
          "output_type": "stream",
          "name": "stdout",
          "text": [
            "Row(ReviewerID=1533, RecipeID=44022, Rating=5)\n",
            "The number of records in the training data is 559077.\n",
            "The number of records in the test data is 239193.\n"
          ]
        }
      ],
      "source": [
        "(training, test) = reviews_indexed.randomSplit([0.7, 0.3], seed = 1234)\n",
        "print (training.first())\n",
        "print('The number of records in the training data is ' + str(training.count()) + '.')\n",
        "print('The number of records in the test data is ' + str(test.count()) + '.')"
      ]
    },
    {
      "cell_type": "code",
      "execution_count": null,
      "metadata": {
        "id": "-Vpo7xbv_Aon"
      },
      "outputs": [],
      "source": [
        "als = ALS(rank = 5, maxIter=20, regParam=0.1, userCol=\"ReviewerID\", itemCol=\"RecipeID\", ratingCol=\"Rating\", coldStartStrategy=\"drop\")\n",
        "model = als.fit(training)"
      ]
    },
    {
      "cell_type": "code",
      "execution_count": null,
      "metadata": {
        "id": "3swTRPwePvND"
      },
      "outputs": [],
      "source": [
        "predictions = model.transform(test)"
      ]
    },
    {
      "cell_type": "code",
      "execution_count": null,
      "metadata": {
        "colab": {
          "base_uri": "https://localhost:8080/"
        },
        "id": "WzKkz9K2cZb3",
        "outputId": "f1c21f56-1d89-4a8e-e605-46c3b09edb59"
      },
      "outputs": [
        {
          "output_type": "stream",
          "name": "stdout",
          "text": [
            "Root-mean-square error = 1.7335551874710295\n"
          ]
        }
      ],
      "source": [
        "evaluator = RegressionEvaluator(metricName=\"rmse\", labelCol=\"Rating\",predictionCol=\"prediction\")\n",
        "rmse = evaluator.evaluate(predictions)\n",
        "print(\"Root-mean-square error = \" + str(rmse))"
      ]
    },
    {
      "cell_type": "code",
      "execution_count": null,
      "metadata": {
        "id": "xUmeU8VaccKS"
      },
      "outputs": [],
      "source": [
        "users = reviews_indexed.select(als.getUserCol()).distinct().limit(3)\n",
        "userSubsetRecs = model.recommendForUserSubset(users,3)"
      ]
    },
    {
      "cell_type": "code",
      "source": [
        "userSubsetRecs.show(truncate=False)"
      ],
      "metadata": {
        "colab": {
          "base_uri": "https://localhost:8080/"
        },
        "id": "Z6oyWcjhGYlk",
        "outputId": "0ee99d73-026b-4680-f974-fae88e1472ca"
      },
      "execution_count": null,
      "outputs": [
        {
          "output_type": "stream",
          "name": "stdout",
          "text": [
            "+----------+--------------------------------------------------------------+\n",
            "|ReviewerID|recommendations                                               |\n",
            "+----------+--------------------------------------------------------------+\n",
            "|31261     |[{167605, 7.857949}, {151487, 7.5558033}, {188267, 7.3638124}]|\n",
            "|286566    |[{163504, 6.6765213}, {141078, 6.467594}, {238218, 6.2725005}]|\n",
            "|6357      |[{309777, 6.929102}, {141078, 6.9274054}, {167605, 6.90611}]  |\n",
            "+----------+--------------------------------------------------------------+\n",
            "\n"
          ]
        }
      ]
    },
    {
      "cell_type": "code",
      "execution_count": null,
      "metadata": {
        "colab": {
          "base_uri": "https://localhost:8080/"
        },
        "id": "H9_KCPHdqV_J",
        "outputId": "ac24540f-d3a6-4911-cc68-a6a03490724c"
      },
      "outputs": [
        {
          "output_type": "execute_result",
          "data": {
            "text/plain": [
              "DataFrame[ReviewerID: int, RecipeID: int]"
            ]
          },
          "metadata": {},
          "execution_count": 21
        }
      ],
      "source": [
        "from pyspark.sql.functions import *\n",
        "rating_recommendations = userSubsetRecs.withColumn('recomm_pair', explode('recommendations')) \\\n",
        "                                  .select('ReviewerID', col('recomm_pair.RecipeID'))\n",
        "rating_recommendations"
      ]
    },
    {
      "cell_type": "code",
      "source": [
        "recommended_recipes = rating_recommendations.join(index_df, 'RecipeID').distinct()"
      ],
      "metadata": {
        "id": "1gdVu7dFLEK-"
      },
      "execution_count": null,
      "outputs": []
    },
    {
      "cell_type": "code",
      "source": [
        "rating_recommendations.show(10)"
      ],
      "metadata": {
        "colab": {
          "base_uri": "https://localhost:8080/"
        },
        "id": "CPzclIl8WE8V",
        "outputId": "5542a683-bda2-45b5-97b9-20eb4c5c6d10"
      },
      "execution_count": null,
      "outputs": [
        {
          "output_type": "stream",
          "name": "stdout",
          "text": [
            "+----------+--------+\n",
            "|ReviewerID|RecipeID|\n",
            "+----------+--------+\n",
            "|     31261|  167605|\n",
            "|     31261|  151487|\n",
            "|     31261|  188267|\n",
            "|    286566|  163504|\n",
            "|    286566|  141078|\n",
            "|    286566|  238218|\n",
            "|      6357|  309777|\n",
            "|      6357|  141078|\n",
            "|      6357|  167605|\n",
            "+----------+--------+\n",
            "\n"
          ]
        }
      ]
    },
    {
      "cell_type": "code",
      "source": [
        "recommended_recipes.show(10)"
      ],
      "metadata": {
        "colab": {
          "base_uri": "https://localhost:8080/"
        },
        "id": "TS48Nm9WPH1R",
        "outputId": "a7216a9a-83c4-4612-faaf-eaae29636ab3"
      },
      "execution_count": null,
      "outputs": [
        {
          "output_type": "stream",
          "name": "stdout",
          "text": [
            "+--------+----------+--------------------+\n",
            "|RecipeID|ReviewerID|          RecipeName|\n",
            "+--------+----------+--------------------+\n",
            "|  309777|      6357|Dreamy, Creamy Pe...|\n",
            "|  167605|     31261|Grilled Baby Vege...|\n",
            "|  167605|      6357|Grilled Baby Vege...|\n",
            "|  163504|    286566|Double Chocolate ...|\n",
            "|  188267|     31261|Healthy Oatmeal B...|\n",
            "|  238218|    286566| Easiest Iced Coffee|\n",
            "|  141078|    286566|Country Fried Ste...|\n",
            "|  141078|      6357|Country Fried Ste...|\n",
            "|  151487|     31261|   Pain Au Chocolate|\n",
            "+--------+----------+--------------------+\n",
            "\n"
          ]
        }
      ]
    },
    {
      "cell_type": "code",
      "source": [
        "df_RecipeReviews.filter((df_RecipeReviews['ReviewerID']==31261) & (df_RecipeReviews['Rating']==5) )[['ReviewerId','RecipeId','RecipeName','Rating']].orderBy(df_RecipeReviews['Rating'],asc = False).show(50)\n"
      ],
      "metadata": {
        "colab": {
          "base_uri": "https://localhost:8080/"
        },
        "id": "dgJQg5vdXYdP",
        "outputId": "f6cd3c18-1b98-4e19-8906-849eafc5729a"
      },
      "execution_count": null,
      "outputs": [
        {
          "output_type": "stream",
          "name": "stdout",
          "text": [
            "+----------+--------+--------------------+------+\n",
            "|ReviewerId|RecipeId|          RecipeName|Rating|\n",
            "+----------+--------+--------------------+------+\n",
            "|     31261|    8592|            BBQ Ribs|     5|\n",
            "|     31261|   99899|Parmesan Oregano ...|     5|\n",
            "|     31261|   16283|Mom's Tater Tots ...|     5|\n",
            "|     31261|   20124|    Chicken in Gravy|     5|\n",
            "|     31261|   23010|   Catalina Dressing|     5|\n",
            "|     31261|   26309|           Meatballs|     5|\n",
            "|     31261|   38769|       Cheese Straws|     5|\n",
            "|     31261|   31710|Potato'n Salmon C...|     5|\n",
            "|     31261|   14318|Spicy Salad Dressing|     5|\n",
            "|     31261|   19821|      Linguini Salad|     5|\n",
            "|     31261|   27344|    Homemade Noodles|     5|\n",
            "|     31261|   16470|Homemade Drain Cl...|     5|\n",
            "|     31261|   10776|      Scalloped Corn|     5|\n",
            "|     31261|   65420|       Onion Burgers|     5|\n",
            "|     31261|   77221|Southern Fluffy F...|     5|\n",
            "|     31261|   88212|Spinach/Romaine S...|     5|\n",
            "|     31261|   62053|       Crescent Dogs|     5|\n",
            "|     31261|   23738|Great Marinated G...|     5|\n",
            "|     31261|   29991|Chicken and Sausa...|     5|\n",
            "|     31261|   37889|Sugar and Spice A...|     5|\n",
            "|     31261|   11732|Easy Oven Rice Ca...|     5|\n",
            "|     31261|   25476|Fresh 'n' Tasty M...|     5|\n",
            "|     31261|   58133|Southern Barbecue...|     5|\n",
            "|     31261|    5291|Brown Rice Brocco...|     5|\n",
            "|     31261|   17624|    Texas Cheesecake|     5|\n",
            "|     31261|   16584|Marinated Chicken...|     5|\n",
            "|     31261|   86297|Olive Garden Bolo...|     5|\n",
            "|     31261|   23573|Baked Rigatoni an...|     5|\n",
            "|     31261|   11098|Delicious Dorito ...|     5|\n",
            "|     31261|   31664|  Marinated Coleslaw|     5|\n",
            "|     31261|   73852|Pat's Peanut Butt...|     5|\n",
            "|     31261|    8579|          Beef Roast|     5|\n",
            "|     31261|   16438|Chocolate Covered...|     5|\n",
            "|     31261|   20491|     No Bake Cookies|     5|\n",
            "|     31261|   26784|         Burrito Pie|     5|\n",
            "|     31261|   64367|Cajun Sausage and...|     5|\n",
            "|     31261|   25485|Cheesy Potatoes f...|     5|\n",
            "|     31261|   35989|Potato Casserole ...|     5|\n",
            "|     31261|   22900|Dale's Red Pickle...|     5|\n",
            "|     31261|   18579|        Oatmeal Cake|     5|\n",
            "|     31261|   24907|Waikiki BBQ Chick...|     5|\n",
            "|     31261|   12396|Easy Baked Pork C...|     5|\n",
            "|     31261|   20545|Crisp Bacon Potatoes|     5|\n",
            "|     31261|   28842|White Mountain Co...|     5|\n",
            "|     31261|   30949|        Barbecue Rub|     5|\n",
            "|     31261|   10050|Grandma Flo's Ger...|     5|\n",
            "|     31261|   38084|Cream of Carrot Soup|     5|\n",
            "|     31261|   33049|   Marinade for Beef|     5|\n",
            "|     31261|   15864|   Strawberry Heaven|     5|\n",
            "|     31261|  122848|Sweet Pickle Slop...|     5|\n",
            "+----------+--------+--------------------+------+\n",
            "only showing top 50 rows\n",
            "\n"
          ]
        }
      ]
    },
    {
      "cell_type": "markdown",
      "source": [
        "# KNN model for Recommendations"
      ],
      "metadata": {
        "id": "DafayPkqY33p"
      }
    },
    {
      "cell_type": "code",
      "source": [
        "df_RecipeReviews.show(5, truncate = False)\n"
      ],
      "metadata": {
        "colab": {
          "base_uri": "https://localhost:8080/"
        },
        "id": "yo6EsoFwjzr4",
        "outputId": "24e49e65-1683-4c6d-dbdc-8695060403a1"
      },
      "execution_count": null,
      "outputs": [
        {
          "output_type": "stream",
          "name": "stdout",
          "text": [
            "+--------+----------+--------+---------------------+------+--------------------------------------------------------------------------------------------------------------------------------------------------------------------------------------------------------------------------------------------------------------------------------------------------------------------------------------------------------------------------------------------------------------------------------------------------------------------------------------+--------+--------+---------+--------------+----------------+-----------------+-------------------------------------------------------+--------+----------+-------------------+------------------+-------------+-------------------+------------+------------+--------------+--------------+\n",
            "|ReviewId|ReviewerId|RecipeId|RecipeName           |Rating|Review                                                                                                                                                                                                                                                                                                                                                                                                                                                                                |CookTime|PrepTime|TotalTime|RecipeCategory|AggregatedRating|RecipeReviewCount|RecipeIngredientParts                                  |Calories|FatContent|SaturatedFatContent|CholesterolContent|SodiumContent|CarbohydrateContent|FiberContent|SugarContent|ProteinContent|RecipeServings|\n",
            "+--------+----------+--------+---------------------+------+--------------------------------------------------------------------------------------------------------------------------------------------------------------------------------------------------------------------------------------------------------------------------------------------------------------------------------------------------------------------------------------------------------------------------------------------------------------------------------------+--------+--------+---------+--------------+----------------+-----------------+-------------------------------------------------------+--------+----------+-------------------+------------------+-------------+-------------------+------------+------------+--------------+--------------+\n",
            "|137709  |146824    |463     |Cappuccino Coffee Mix|0     |I tried this recipe out in two batches for Christmas gifts.  The first batch I made my own dried orange peel by scrapping the zest off a couple of mandarin oranges, then letting it dry overnight on a cake rack with paper towel on it (when it was dry it crushed easily in your fingers).  I made a second batch without the orange and liked it just as much (and it took a fraction of the time). I doubled the sugar though so it tasted more sweet than bitter.  Great recipe!|NA      |PT20M   |PT20M    |Beverages     |4.5             |7                |[instant coffee granules,  granulated sugar,  cinnamon]|54.3    |2.2       |2.0                |0.0               |12.4         |8.0                |0.1         |6.8         |0.7           |15            |\n",
            "|138400  |133174    |463     |Cappuccino Coffee Mix|5     |I have had this recipe for years and years.  Made it over the years for Christmas presents.  This year I put about 1 cup of mix in a ziploc bag, put the bag in a Christmas mug, wrapped in colored plastic wrap, attached recipe and a bow.  Presents for the gang at work.                                                                                                                                                                                                          |NA      |PT20M   |PT20M    |Beverages     |4.5             |7                |[instant coffee granules,  granulated sugar,  cinnamon]|54.3    |2.2       |2.0                |0.0               |12.4         |8.0                |0.1         |6.8         |0.7           |15            |\n",
            "|139158  |67395     |463     |Cappuccino Coffee Mix|5     |I found this in the Company's Coming Christmas book a few years ago and made it as Christmas gifts.  Everyone really enjoyed it. I actually didn't worry about drying the orange zest and it worked just fine.                                                                                                                                                                                                                                                                        |NA      |PT20M   |PT20M    |Beverages     |4.5             |7                |[instant coffee granules,  granulated sugar,  cinnamon]|54.3    |2.2       |2.0                |0.0               |12.4         |8.0                |0.1         |6.8         |0.7           |15            |\n",
            "|152220  |179713    |463     |Cappuccino Coffee Mix|5     |I really liked this. I'm not into orange so I didn't think I would like it but, that hint of orange at the end was actually quite nice!                                                                                                                                                                                                                                                                                                                                               |NA      |PT20M   |PT20M    |Beverages     |4.5             |7                |[instant coffee granules,  granulated sugar,  cinnamon]|54.3    |2.2       |2.0                |0.0               |12.4         |8.0                |0.1         |6.8         |0.7           |15            |\n",
            "|152268  |82737     |463     |Cappuccino Coffee Mix|5     |My son made this and packaged it in some pretty tins and bottles and gave it out as Christmas presents.  Everyone loved it and have been asking him for the recipe!                                                                                                                                                                                                                                                                                                                   |NA      |PT20M   |PT20M    |Beverages     |4.5             |7                |[instant coffee granules,  granulated sugar,  cinnamon]|54.3    |2.2       |2.0                |0.0               |12.4         |8.0                |0.1         |6.8         |0.7           |15            |\n",
            "+--------+----------+--------+---------------------+------+--------------------------------------------------------------------------------------------------------------------------------------------------------------------------------------------------------------------------------------------------------------------------------------------------------------------------------------------------------------------------------------------------------------------------------------------------------------------------------------+--------+--------+---------+--------------+----------------+-----------------+-------------------------------------------------------+--------+----------+-------------------+------------------+-------------+-------------------+------------+------------+--------------+--------------+\n",
            "only showing top 5 rows\n",
            "\n"
          ]
        }
      ]
    },
    {
      "cell_type": "code",
      "source": [
        "print(df_RecipeReviews.schema)"
      ],
      "metadata": {
        "colab": {
          "base_uri": "https://localhost:8080/"
        },
        "id": "r1Vb7D2XmEDQ",
        "outputId": "5427dc14-a6b9-406f-cd7a-06b5a664383b"
      },
      "execution_count": null,
      "outputs": [
        {
          "output_type": "stream",
          "name": "stdout",
          "text": [
            "StructType(List(StructField(ReviewId,IntegerType,true),StructField(ReviewerId,IntegerType,true),StructField(RecipeId,IntegerType,true),StructField(RecipeName,StringType,true),StructField(Rating,IntegerType,true),StructField(Review,StringType,true),StructField(CookTime,StringType,true),StructField(PrepTime,StringType,true),StructField(TotalTime,StringType,true),StructField(RecipeCategory,StringType,true),StructField(AggregatedRating,FloatType,true),StructField(RecipeReviewCount,StringType,true),StructField(RecipeIngredientParts,ArrayType(StringType,true),true),StructField(Calories,FloatType,true),StructField(FatContent,FloatType,true),StructField(SaturatedFatContent,FloatType,true),StructField(CholesterolContent,FloatType,true),StructField(SodiumContent,FloatType,true),StructField(CarbohydrateContent,FloatType,true),StructField(FiberContent,FloatType,true),StructField(SugarContent,FloatType,true),StructField(ProteinContent,FloatType,true),StructField(RecipeServings,StringType,true)))\n"
          ]
        }
      ]
    },
    {
      "cell_type": "code",
      "source": [
        "df_RecipeReviews_features = df_RecipeReviews.select(df_RecipeReviews['ReviewId'], df_RecipeReviews['RecipeID'], df_RecipeReviews['Rating'],df_RecipeReviews['RecipeName'])\n",
        "df_RecipeReviews_features.show(5)"
      ],
      "metadata": {
        "colab": {
          "base_uri": "https://localhost:8080/"
        },
        "id": "1afTIeNnjzvT",
        "outputId": "89914ef3-1468-444b-d4cb-2ac5285ccc2e"
      },
      "execution_count": null,
      "outputs": [
        {
          "output_type": "stream",
          "name": "stdout",
          "text": [
            "+--------+--------+------+--------------------+\n",
            "|ReviewId|RecipeID|Rating|          RecipeName|\n",
            "+--------+--------+------+--------------------+\n",
            "|  137709|     463|     0|Cappuccino Coffee...|\n",
            "|  138400|     463|     5|Cappuccino Coffee...|\n",
            "|  139158|     463|     5|Cappuccino Coffee...|\n",
            "|  152220|     463|     5|Cappuccino Coffee...|\n",
            "|  152268|     463|     5|Cappuccino Coffee...|\n",
            "+--------+--------+------+--------------------+\n",
            "only showing top 5 rows\n",
            "\n"
          ]
        }
      ]
    },
    {
      "cell_type": "code",
      "source": [
        "combine_recipe_rating = df_RecipeReviews_features.toPandas()\n"
      ],
      "metadata": {
        "id": "wKj0yDsm0cp7"
      },
      "execution_count": null,
      "outputs": []
    },
    {
      "cell_type": "code",
      "source": [
        "recipe_ratingCount = (combine_recipe_rating.\n",
        "     groupby(by = ['RecipeName'])['Rating'].\n",
        "     count().\n",
        "     reset_index().\n",
        "     rename(columns = {'Rating': 'TotalRatingCount'})\n",
        "     [['RecipeName', 'TotalRatingCount']]\n",
        "    )\n",
        "recipe_ratingCount.head()"
      ],
      "metadata": {
        "colab": {
          "base_uri": "https://localhost:8080/",
          "height": 206
        },
        "id": "nxrDqPt32Rx1",
        "outputId": "ac59140c-1e44-4955-d33a-39de13d6065d"
      },
      "execution_count": null,
      "outputs": [
        {
          "output_type": "execute_result",
          "data": {
            "text/plain": [
              "                            RecipeName  TotalRatingCount\n",
              "0    \"A Bit Different\" Breakfast Pizza                 4\n",
              "1               \"AWW\" Marinated Olives                 1\n",
              "2           \"All in the Kitchen\" Chili                 1\n",
              "3                  \"Alouette\" Potatoes                 2\n",
              "4  \"Amish\" tomato ketchup, for canning                 1"
            ],
            "text/html": [
              "\n",
              "  <div id=\"df-81d56562-3bd9-4ce0-bbf0-494d97d4838b\">\n",
              "    <div class=\"colab-df-container\">\n",
              "      <div>\n",
              "<style scoped>\n",
              "    .dataframe tbody tr th:only-of-type {\n",
              "        vertical-align: middle;\n",
              "    }\n",
              "\n",
              "    .dataframe tbody tr th {\n",
              "        vertical-align: top;\n",
              "    }\n",
              "\n",
              "    .dataframe thead th {\n",
              "        text-align: right;\n",
              "    }\n",
              "</style>\n",
              "<table border=\"1\" class=\"dataframe\">\n",
              "  <thead>\n",
              "    <tr style=\"text-align: right;\">\n",
              "      <th></th>\n",
              "      <th>RecipeName</th>\n",
              "      <th>TotalRatingCount</th>\n",
              "    </tr>\n",
              "  </thead>\n",
              "  <tbody>\n",
              "    <tr>\n",
              "      <th>0</th>\n",
              "      <td>\"A Bit Different\" Breakfast Pizza</td>\n",
              "      <td>4</td>\n",
              "    </tr>\n",
              "    <tr>\n",
              "      <th>1</th>\n",
              "      <td>\"AWW\" Marinated Olives</td>\n",
              "      <td>1</td>\n",
              "    </tr>\n",
              "    <tr>\n",
              "      <th>2</th>\n",
              "      <td>\"All in the Kitchen\" Chili</td>\n",
              "      <td>1</td>\n",
              "    </tr>\n",
              "    <tr>\n",
              "      <th>3</th>\n",
              "      <td>\"Alouette\" Potatoes</td>\n",
              "      <td>2</td>\n",
              "    </tr>\n",
              "    <tr>\n",
              "      <th>4</th>\n",
              "      <td>\"Amish\" tomato ketchup, for canning</td>\n",
              "      <td>1</td>\n",
              "    </tr>\n",
              "  </tbody>\n",
              "</table>\n",
              "</div>\n",
              "      <button class=\"colab-df-convert\" onclick=\"convertToInteractive('df-81d56562-3bd9-4ce0-bbf0-494d97d4838b')\"\n",
              "              title=\"Convert this dataframe to an interactive table.\"\n",
              "              style=\"display:none;\">\n",
              "        \n",
              "  <svg xmlns=\"http://www.w3.org/2000/svg\" height=\"24px\"viewBox=\"0 0 24 24\"\n",
              "       width=\"24px\">\n",
              "    <path d=\"M0 0h24v24H0V0z\" fill=\"none\"/>\n",
              "    <path d=\"M18.56 5.44l.94 2.06.94-2.06 2.06-.94-2.06-.94-.94-2.06-.94 2.06-2.06.94zm-11 1L8.5 8.5l.94-2.06 2.06-.94-2.06-.94L8.5 2.5l-.94 2.06-2.06.94zm10 10l.94 2.06.94-2.06 2.06-.94-2.06-.94-.94-2.06-.94 2.06-2.06.94z\"/><path d=\"M17.41 7.96l-1.37-1.37c-.4-.4-.92-.59-1.43-.59-.52 0-1.04.2-1.43.59L10.3 9.45l-7.72 7.72c-.78.78-.78 2.05 0 2.83L4 21.41c.39.39.9.59 1.41.59.51 0 1.02-.2 1.41-.59l7.78-7.78 2.81-2.81c.8-.78.8-2.07 0-2.86zM5.41 20L4 18.59l7.72-7.72 1.47 1.35L5.41 20z\"/>\n",
              "  </svg>\n",
              "      </button>\n",
              "      \n",
              "  <style>\n",
              "    .colab-df-container {\n",
              "      display:flex;\n",
              "      flex-wrap:wrap;\n",
              "      gap: 12px;\n",
              "    }\n",
              "\n",
              "    .colab-df-convert {\n",
              "      background-color: #E8F0FE;\n",
              "      border: none;\n",
              "      border-radius: 50%;\n",
              "      cursor: pointer;\n",
              "      display: none;\n",
              "      fill: #1967D2;\n",
              "      height: 32px;\n",
              "      padding: 0 0 0 0;\n",
              "      width: 32px;\n",
              "    }\n",
              "\n",
              "    .colab-df-convert:hover {\n",
              "      background-color: #E2EBFA;\n",
              "      box-shadow: 0px 1px 2px rgba(60, 64, 67, 0.3), 0px 1px 3px 1px rgba(60, 64, 67, 0.15);\n",
              "      fill: #174EA6;\n",
              "    }\n",
              "\n",
              "    [theme=dark] .colab-df-convert {\n",
              "      background-color: #3B4455;\n",
              "      fill: #D2E3FC;\n",
              "    }\n",
              "\n",
              "    [theme=dark] .colab-df-convert:hover {\n",
              "      background-color: #434B5C;\n",
              "      box-shadow: 0px 1px 3px 1px rgba(0, 0, 0, 0.15);\n",
              "      filter: drop-shadow(0px 1px 2px rgba(0, 0, 0, 0.3));\n",
              "      fill: #FFFFFF;\n",
              "    }\n",
              "  </style>\n",
              "\n",
              "      <script>\n",
              "        const buttonEl =\n",
              "          document.querySelector('#df-81d56562-3bd9-4ce0-bbf0-494d97d4838b button.colab-df-convert');\n",
              "        buttonEl.style.display =\n",
              "          google.colab.kernel.accessAllowed ? 'block' : 'none';\n",
              "\n",
              "        async function convertToInteractive(key) {\n",
              "          const element = document.querySelector('#df-81d56562-3bd9-4ce0-bbf0-494d97d4838b');\n",
              "          const dataTable =\n",
              "            await google.colab.kernel.invokeFunction('convertToInteractive',\n",
              "                                                     [key], {});\n",
              "          if (!dataTable) return;\n",
              "\n",
              "          const docLinkHtml = 'Like what you see? Visit the ' +\n",
              "            '<a target=\"_blank\" href=https://colab.research.google.com/notebooks/data_table.ipynb>data table notebook</a>'\n",
              "            + ' to learn more about interactive tables.';\n",
              "          element.innerHTML = '';\n",
              "          dataTable['output_type'] = 'display_data';\n",
              "          await google.colab.output.renderOutput(dataTable, element);\n",
              "          const docLink = document.createElement('div');\n",
              "          docLink.innerHTML = docLinkHtml;\n",
              "          element.appendChild(docLink);\n",
              "        }\n",
              "      </script>\n",
              "    </div>\n",
              "  </div>\n",
              "  "
            ]
          },
          "metadata": {},
          "execution_count": 30
        }
      ]
    },
    {
      "cell_type": "code",
      "source": [
        "combine_recipe_rating.head()"
      ],
      "metadata": {
        "colab": {
          "base_uri": "https://localhost:8080/",
          "height": 206
        },
        "id": "msNqdpkT3c4J",
        "outputId": "4af353b1-ceaf-44df-83c2-67bff9665290"
      },
      "execution_count": null,
      "outputs": [
        {
          "output_type": "execute_result",
          "data": {
            "text/plain": [
              "   ReviewId  RecipeID  Rating             RecipeName\n",
              "0    137709       463       0  Cappuccino Coffee Mix\n",
              "1    138400       463       5  Cappuccino Coffee Mix\n",
              "2    139158       463       5  Cappuccino Coffee Mix\n",
              "3    152220       463       5  Cappuccino Coffee Mix\n",
              "4    152268       463       5  Cappuccino Coffee Mix"
            ],
            "text/html": [
              "\n",
              "  <div id=\"df-5cb0cee0-7638-43b1-8167-f45046fbb3ca\">\n",
              "    <div class=\"colab-df-container\">\n",
              "      <div>\n",
              "<style scoped>\n",
              "    .dataframe tbody tr th:only-of-type {\n",
              "        vertical-align: middle;\n",
              "    }\n",
              "\n",
              "    .dataframe tbody tr th {\n",
              "        vertical-align: top;\n",
              "    }\n",
              "\n",
              "    .dataframe thead th {\n",
              "        text-align: right;\n",
              "    }\n",
              "</style>\n",
              "<table border=\"1\" class=\"dataframe\">\n",
              "  <thead>\n",
              "    <tr style=\"text-align: right;\">\n",
              "      <th></th>\n",
              "      <th>ReviewId</th>\n",
              "      <th>RecipeID</th>\n",
              "      <th>Rating</th>\n",
              "      <th>RecipeName</th>\n",
              "    </tr>\n",
              "  </thead>\n",
              "  <tbody>\n",
              "    <tr>\n",
              "      <th>0</th>\n",
              "      <td>137709</td>\n",
              "      <td>463</td>\n",
              "      <td>0</td>\n",
              "      <td>Cappuccino Coffee Mix</td>\n",
              "    </tr>\n",
              "    <tr>\n",
              "      <th>1</th>\n",
              "      <td>138400</td>\n",
              "      <td>463</td>\n",
              "      <td>5</td>\n",
              "      <td>Cappuccino Coffee Mix</td>\n",
              "    </tr>\n",
              "    <tr>\n",
              "      <th>2</th>\n",
              "      <td>139158</td>\n",
              "      <td>463</td>\n",
              "      <td>5</td>\n",
              "      <td>Cappuccino Coffee Mix</td>\n",
              "    </tr>\n",
              "    <tr>\n",
              "      <th>3</th>\n",
              "      <td>152220</td>\n",
              "      <td>463</td>\n",
              "      <td>5</td>\n",
              "      <td>Cappuccino Coffee Mix</td>\n",
              "    </tr>\n",
              "    <tr>\n",
              "      <th>4</th>\n",
              "      <td>152268</td>\n",
              "      <td>463</td>\n",
              "      <td>5</td>\n",
              "      <td>Cappuccino Coffee Mix</td>\n",
              "    </tr>\n",
              "  </tbody>\n",
              "</table>\n",
              "</div>\n",
              "      <button class=\"colab-df-convert\" onclick=\"convertToInteractive('df-5cb0cee0-7638-43b1-8167-f45046fbb3ca')\"\n",
              "              title=\"Convert this dataframe to an interactive table.\"\n",
              "              style=\"display:none;\">\n",
              "        \n",
              "  <svg xmlns=\"http://www.w3.org/2000/svg\" height=\"24px\"viewBox=\"0 0 24 24\"\n",
              "       width=\"24px\">\n",
              "    <path d=\"M0 0h24v24H0V0z\" fill=\"none\"/>\n",
              "    <path d=\"M18.56 5.44l.94 2.06.94-2.06 2.06-.94-2.06-.94-.94-2.06-.94 2.06-2.06.94zm-11 1L8.5 8.5l.94-2.06 2.06-.94-2.06-.94L8.5 2.5l-.94 2.06-2.06.94zm10 10l.94 2.06.94-2.06 2.06-.94-2.06-.94-.94-2.06-.94 2.06-2.06.94z\"/><path d=\"M17.41 7.96l-1.37-1.37c-.4-.4-.92-.59-1.43-.59-.52 0-1.04.2-1.43.59L10.3 9.45l-7.72 7.72c-.78.78-.78 2.05 0 2.83L4 21.41c.39.39.9.59 1.41.59.51 0 1.02-.2 1.41-.59l7.78-7.78 2.81-2.81c.8-.78.8-2.07 0-2.86zM5.41 20L4 18.59l7.72-7.72 1.47 1.35L5.41 20z\"/>\n",
              "  </svg>\n",
              "      </button>\n",
              "      \n",
              "  <style>\n",
              "    .colab-df-container {\n",
              "      display:flex;\n",
              "      flex-wrap:wrap;\n",
              "      gap: 12px;\n",
              "    }\n",
              "\n",
              "    .colab-df-convert {\n",
              "      background-color: #E8F0FE;\n",
              "      border: none;\n",
              "      border-radius: 50%;\n",
              "      cursor: pointer;\n",
              "      display: none;\n",
              "      fill: #1967D2;\n",
              "      height: 32px;\n",
              "      padding: 0 0 0 0;\n",
              "      width: 32px;\n",
              "    }\n",
              "\n",
              "    .colab-df-convert:hover {\n",
              "      background-color: #E2EBFA;\n",
              "      box-shadow: 0px 1px 2px rgba(60, 64, 67, 0.3), 0px 1px 3px 1px rgba(60, 64, 67, 0.15);\n",
              "      fill: #174EA6;\n",
              "    }\n",
              "\n",
              "    [theme=dark] .colab-df-convert {\n",
              "      background-color: #3B4455;\n",
              "      fill: #D2E3FC;\n",
              "    }\n",
              "\n",
              "    [theme=dark] .colab-df-convert:hover {\n",
              "      background-color: #434B5C;\n",
              "      box-shadow: 0px 1px 3px 1px rgba(0, 0, 0, 0.15);\n",
              "      filter: drop-shadow(0px 1px 2px rgba(0, 0, 0, 0.3));\n",
              "      fill: #FFFFFF;\n",
              "    }\n",
              "  </style>\n",
              "\n",
              "      <script>\n",
              "        const buttonEl =\n",
              "          document.querySelector('#df-5cb0cee0-7638-43b1-8167-f45046fbb3ca button.colab-df-convert');\n",
              "        buttonEl.style.display =\n",
              "          google.colab.kernel.accessAllowed ? 'block' : 'none';\n",
              "\n",
              "        async function convertToInteractive(key) {\n",
              "          const element = document.querySelector('#df-5cb0cee0-7638-43b1-8167-f45046fbb3ca');\n",
              "          const dataTable =\n",
              "            await google.colab.kernel.invokeFunction('convertToInteractive',\n",
              "                                                     [key], {});\n",
              "          if (!dataTable) return;\n",
              "\n",
              "          const docLinkHtml = 'Like what you see? Visit the ' +\n",
              "            '<a target=\"_blank\" href=https://colab.research.google.com/notebooks/data_table.ipynb>data table notebook</a>'\n",
              "            + ' to learn more about interactive tables.';\n",
              "          element.innerHTML = '';\n",
              "          dataTable['output_type'] = 'display_data';\n",
              "          await google.colab.output.renderOutput(dataTable, element);\n",
              "          const docLink = document.createElement('div');\n",
              "          docLink.innerHTML = docLinkHtml;\n",
              "          element.appendChild(docLink);\n",
              "        }\n",
              "      </script>\n",
              "    </div>\n",
              "  </div>\n",
              "  "
            ]
          },
          "metadata": {},
          "execution_count": 31
        }
      ]
    },
    {
      "cell_type": "code",
      "source": [
        "rating_with_totalRatingCount = combine_recipe_rating.merge(recipe_ratingCount, left_on = 'RecipeName', right_on = 'RecipeName', how = 'left')\n",
        "rating_with_totalRatingCount.head()"
      ],
      "metadata": {
        "colab": {
          "base_uri": "https://localhost:8080/",
          "height": 206
        },
        "id": "H2Cib6jo2gzS",
        "outputId": "81bf7519-0320-4edc-836b-cb1fce87eaa0"
      },
      "execution_count": null,
      "outputs": [
        {
          "output_type": "execute_result",
          "data": {
            "text/plain": [
              "   ReviewId  RecipeID  Rating             RecipeName  TotalRatingCount\n",
              "0    137709       463       0  Cappuccino Coffee Mix                11\n",
              "1    138400       463       5  Cappuccino Coffee Mix                11\n",
              "2    139158       463       5  Cappuccino Coffee Mix                11\n",
              "3    152220       463       5  Cappuccino Coffee Mix                11\n",
              "4    152268       463       5  Cappuccino Coffee Mix                11"
            ],
            "text/html": [
              "\n",
              "  <div id=\"df-e9edd616-1c7e-4b6e-84c3-434c2ca8f956\">\n",
              "    <div class=\"colab-df-container\">\n",
              "      <div>\n",
              "<style scoped>\n",
              "    .dataframe tbody tr th:only-of-type {\n",
              "        vertical-align: middle;\n",
              "    }\n",
              "\n",
              "    .dataframe tbody tr th {\n",
              "        vertical-align: top;\n",
              "    }\n",
              "\n",
              "    .dataframe thead th {\n",
              "        text-align: right;\n",
              "    }\n",
              "</style>\n",
              "<table border=\"1\" class=\"dataframe\">\n",
              "  <thead>\n",
              "    <tr style=\"text-align: right;\">\n",
              "      <th></th>\n",
              "      <th>ReviewId</th>\n",
              "      <th>RecipeID</th>\n",
              "      <th>Rating</th>\n",
              "      <th>RecipeName</th>\n",
              "      <th>TotalRatingCount</th>\n",
              "    </tr>\n",
              "  </thead>\n",
              "  <tbody>\n",
              "    <tr>\n",
              "      <th>0</th>\n",
              "      <td>137709</td>\n",
              "      <td>463</td>\n",
              "      <td>0</td>\n",
              "      <td>Cappuccino Coffee Mix</td>\n",
              "      <td>11</td>\n",
              "    </tr>\n",
              "    <tr>\n",
              "      <th>1</th>\n",
              "      <td>138400</td>\n",
              "      <td>463</td>\n",
              "      <td>5</td>\n",
              "      <td>Cappuccino Coffee Mix</td>\n",
              "      <td>11</td>\n",
              "    </tr>\n",
              "    <tr>\n",
              "      <th>2</th>\n",
              "      <td>139158</td>\n",
              "      <td>463</td>\n",
              "      <td>5</td>\n",
              "      <td>Cappuccino Coffee Mix</td>\n",
              "      <td>11</td>\n",
              "    </tr>\n",
              "    <tr>\n",
              "      <th>3</th>\n",
              "      <td>152220</td>\n",
              "      <td>463</td>\n",
              "      <td>5</td>\n",
              "      <td>Cappuccino Coffee Mix</td>\n",
              "      <td>11</td>\n",
              "    </tr>\n",
              "    <tr>\n",
              "      <th>4</th>\n",
              "      <td>152268</td>\n",
              "      <td>463</td>\n",
              "      <td>5</td>\n",
              "      <td>Cappuccino Coffee Mix</td>\n",
              "      <td>11</td>\n",
              "    </tr>\n",
              "  </tbody>\n",
              "</table>\n",
              "</div>\n",
              "      <button class=\"colab-df-convert\" onclick=\"convertToInteractive('df-e9edd616-1c7e-4b6e-84c3-434c2ca8f956')\"\n",
              "              title=\"Convert this dataframe to an interactive table.\"\n",
              "              style=\"display:none;\">\n",
              "        \n",
              "  <svg xmlns=\"http://www.w3.org/2000/svg\" height=\"24px\"viewBox=\"0 0 24 24\"\n",
              "       width=\"24px\">\n",
              "    <path d=\"M0 0h24v24H0V0z\" fill=\"none\"/>\n",
              "    <path d=\"M18.56 5.44l.94 2.06.94-2.06 2.06-.94-2.06-.94-.94-2.06-.94 2.06-2.06.94zm-11 1L8.5 8.5l.94-2.06 2.06-.94-2.06-.94L8.5 2.5l-.94 2.06-2.06.94zm10 10l.94 2.06.94-2.06 2.06-.94-2.06-.94-.94-2.06-.94 2.06-2.06.94z\"/><path d=\"M17.41 7.96l-1.37-1.37c-.4-.4-.92-.59-1.43-.59-.52 0-1.04.2-1.43.59L10.3 9.45l-7.72 7.72c-.78.78-.78 2.05 0 2.83L4 21.41c.39.39.9.59 1.41.59.51 0 1.02-.2 1.41-.59l7.78-7.78 2.81-2.81c.8-.78.8-2.07 0-2.86zM5.41 20L4 18.59l7.72-7.72 1.47 1.35L5.41 20z\"/>\n",
              "  </svg>\n",
              "      </button>\n",
              "      \n",
              "  <style>\n",
              "    .colab-df-container {\n",
              "      display:flex;\n",
              "      flex-wrap:wrap;\n",
              "      gap: 12px;\n",
              "    }\n",
              "\n",
              "    .colab-df-convert {\n",
              "      background-color: #E8F0FE;\n",
              "      border: none;\n",
              "      border-radius: 50%;\n",
              "      cursor: pointer;\n",
              "      display: none;\n",
              "      fill: #1967D2;\n",
              "      height: 32px;\n",
              "      padding: 0 0 0 0;\n",
              "      width: 32px;\n",
              "    }\n",
              "\n",
              "    .colab-df-convert:hover {\n",
              "      background-color: #E2EBFA;\n",
              "      box-shadow: 0px 1px 2px rgba(60, 64, 67, 0.3), 0px 1px 3px 1px rgba(60, 64, 67, 0.15);\n",
              "      fill: #174EA6;\n",
              "    }\n",
              "\n",
              "    [theme=dark] .colab-df-convert {\n",
              "      background-color: #3B4455;\n",
              "      fill: #D2E3FC;\n",
              "    }\n",
              "\n",
              "    [theme=dark] .colab-df-convert:hover {\n",
              "      background-color: #434B5C;\n",
              "      box-shadow: 0px 1px 3px 1px rgba(0, 0, 0, 0.15);\n",
              "      filter: drop-shadow(0px 1px 2px rgba(0, 0, 0, 0.3));\n",
              "      fill: #FFFFFF;\n",
              "    }\n",
              "  </style>\n",
              "\n",
              "      <script>\n",
              "        const buttonEl =\n",
              "          document.querySelector('#df-e9edd616-1c7e-4b6e-84c3-434c2ca8f956 button.colab-df-convert');\n",
              "        buttonEl.style.display =\n",
              "          google.colab.kernel.accessAllowed ? 'block' : 'none';\n",
              "\n",
              "        async function convertToInteractive(key) {\n",
              "          const element = document.querySelector('#df-e9edd616-1c7e-4b6e-84c3-434c2ca8f956');\n",
              "          const dataTable =\n",
              "            await google.colab.kernel.invokeFunction('convertToInteractive',\n",
              "                                                     [key], {});\n",
              "          if (!dataTable) return;\n",
              "\n",
              "          const docLinkHtml = 'Like what you see? Visit the ' +\n",
              "            '<a target=\"_blank\" href=https://colab.research.google.com/notebooks/data_table.ipynb>data table notebook</a>'\n",
              "            + ' to learn more about interactive tables.';\n",
              "          element.innerHTML = '';\n",
              "          dataTable['output_type'] = 'display_data';\n",
              "          await google.colab.output.renderOutput(dataTable, element);\n",
              "          const docLink = document.createElement('div');\n",
              "          docLink.innerHTML = docLinkHtml;\n",
              "          element.appendChild(docLink);\n",
              "        }\n",
              "      </script>\n",
              "    </div>\n",
              "  </div>\n",
              "  "
            ]
          },
          "metadata": {},
          "execution_count": 32
        }
      ]
    },
    {
      "cell_type": "code",
      "source": [
        "#pd.set_option('display.float_format', lambda x: '%.3f' % x)\n",
        "print(recipe_ratingCount['TotalRatingCount'].describe())"
      ],
      "metadata": {
        "colab": {
          "base_uri": "https://localhost:8080/"
        },
        "id": "qeW13-VI4k7q",
        "outputId": "223248d6-207a-4e40-b4b4-64319952562a"
      },
      "execution_count": null,
      "outputs": [
        {
          "output_type": "stream",
          "name": "stdout",
          "text": [
            "count    202223.000000\n",
            "mean          3.947474\n",
            "std           6.706942\n",
            "min           1.000000\n",
            "25%           1.000000\n",
            "50%           2.000000\n",
            "75%           4.000000\n",
            "max         404.000000\n",
            "Name: TotalRatingCount, dtype: float64\n"
          ]
        }
      ]
    },
    {
      "cell_type": "code",
      "source": [
        "popularity_threshold = 50\n",
        "rating_popular_recipe= rating_with_totalRatingCount.query('TotalRatingCount >= @popularity_threshold')\n",
        "rating_popular_recipe.head()"
      ],
      "metadata": {
        "colab": {
          "base_uri": "https://localhost:8080/",
          "height": 206
        },
        "id": "Xi8G5OqD4-4q",
        "outputId": "68c8fcef-acf5-4819-8053-8b1da33f295d"
      },
      "execution_count": null,
      "outputs": [
        {
          "output_type": "execute_result",
          "data": {
            "text/plain": [
              "     ReviewId  RecipeID  Rating             RecipeName  TotalRatingCount\n",
              "68      71806      4519       4  Chicken Tortilla Soup               152\n",
              "161     27935      9376       5        Beef Stroganoff               103\n",
              "162     28729      9376       4        Beef Stroganoff               103\n",
              "163     64494      9376       4        Beef Stroganoff               103\n",
              "164    199334      9376       5        Beef Stroganoff               103"
            ],
            "text/html": [
              "\n",
              "  <div id=\"df-e22fe123-5d04-4214-bae0-e8bad3cd6dc6\">\n",
              "    <div class=\"colab-df-container\">\n",
              "      <div>\n",
              "<style scoped>\n",
              "    .dataframe tbody tr th:only-of-type {\n",
              "        vertical-align: middle;\n",
              "    }\n",
              "\n",
              "    .dataframe tbody tr th {\n",
              "        vertical-align: top;\n",
              "    }\n",
              "\n",
              "    .dataframe thead th {\n",
              "        text-align: right;\n",
              "    }\n",
              "</style>\n",
              "<table border=\"1\" class=\"dataframe\">\n",
              "  <thead>\n",
              "    <tr style=\"text-align: right;\">\n",
              "      <th></th>\n",
              "      <th>ReviewId</th>\n",
              "      <th>RecipeID</th>\n",
              "      <th>Rating</th>\n",
              "      <th>RecipeName</th>\n",
              "      <th>TotalRatingCount</th>\n",
              "    </tr>\n",
              "  </thead>\n",
              "  <tbody>\n",
              "    <tr>\n",
              "      <th>68</th>\n",
              "      <td>71806</td>\n",
              "      <td>4519</td>\n",
              "      <td>4</td>\n",
              "      <td>Chicken Tortilla Soup</td>\n",
              "      <td>152</td>\n",
              "    </tr>\n",
              "    <tr>\n",
              "      <th>161</th>\n",
              "      <td>27935</td>\n",
              "      <td>9376</td>\n",
              "      <td>5</td>\n",
              "      <td>Beef Stroganoff</td>\n",
              "      <td>103</td>\n",
              "    </tr>\n",
              "    <tr>\n",
              "      <th>162</th>\n",
              "      <td>28729</td>\n",
              "      <td>9376</td>\n",
              "      <td>4</td>\n",
              "      <td>Beef Stroganoff</td>\n",
              "      <td>103</td>\n",
              "    </tr>\n",
              "    <tr>\n",
              "      <th>163</th>\n",
              "      <td>64494</td>\n",
              "      <td>9376</td>\n",
              "      <td>4</td>\n",
              "      <td>Beef Stroganoff</td>\n",
              "      <td>103</td>\n",
              "    </tr>\n",
              "    <tr>\n",
              "      <th>164</th>\n",
              "      <td>199334</td>\n",
              "      <td>9376</td>\n",
              "      <td>5</td>\n",
              "      <td>Beef Stroganoff</td>\n",
              "      <td>103</td>\n",
              "    </tr>\n",
              "  </tbody>\n",
              "</table>\n",
              "</div>\n",
              "      <button class=\"colab-df-convert\" onclick=\"convertToInteractive('df-e22fe123-5d04-4214-bae0-e8bad3cd6dc6')\"\n",
              "              title=\"Convert this dataframe to an interactive table.\"\n",
              "              style=\"display:none;\">\n",
              "        \n",
              "  <svg xmlns=\"http://www.w3.org/2000/svg\" height=\"24px\"viewBox=\"0 0 24 24\"\n",
              "       width=\"24px\">\n",
              "    <path d=\"M0 0h24v24H0V0z\" fill=\"none\"/>\n",
              "    <path d=\"M18.56 5.44l.94 2.06.94-2.06 2.06-.94-2.06-.94-.94-2.06-.94 2.06-2.06.94zm-11 1L8.5 8.5l.94-2.06 2.06-.94-2.06-.94L8.5 2.5l-.94 2.06-2.06.94zm10 10l.94 2.06.94-2.06 2.06-.94-2.06-.94-.94-2.06-.94 2.06-2.06.94z\"/><path d=\"M17.41 7.96l-1.37-1.37c-.4-.4-.92-.59-1.43-.59-.52 0-1.04.2-1.43.59L10.3 9.45l-7.72 7.72c-.78.78-.78 2.05 0 2.83L4 21.41c.39.39.9.59 1.41.59.51 0 1.02-.2 1.41-.59l7.78-7.78 2.81-2.81c.8-.78.8-2.07 0-2.86zM5.41 20L4 18.59l7.72-7.72 1.47 1.35L5.41 20z\"/>\n",
              "  </svg>\n",
              "      </button>\n",
              "      \n",
              "  <style>\n",
              "    .colab-df-container {\n",
              "      display:flex;\n",
              "      flex-wrap:wrap;\n",
              "      gap: 12px;\n",
              "    }\n",
              "\n",
              "    .colab-df-convert {\n",
              "      background-color: #E8F0FE;\n",
              "      border: none;\n",
              "      border-radius: 50%;\n",
              "      cursor: pointer;\n",
              "      display: none;\n",
              "      fill: #1967D2;\n",
              "      height: 32px;\n",
              "      padding: 0 0 0 0;\n",
              "      width: 32px;\n",
              "    }\n",
              "\n",
              "    .colab-df-convert:hover {\n",
              "      background-color: #E2EBFA;\n",
              "      box-shadow: 0px 1px 2px rgba(60, 64, 67, 0.3), 0px 1px 3px 1px rgba(60, 64, 67, 0.15);\n",
              "      fill: #174EA6;\n",
              "    }\n",
              "\n",
              "    [theme=dark] .colab-df-convert {\n",
              "      background-color: #3B4455;\n",
              "      fill: #D2E3FC;\n",
              "    }\n",
              "\n",
              "    [theme=dark] .colab-df-convert:hover {\n",
              "      background-color: #434B5C;\n",
              "      box-shadow: 0px 1px 3px 1px rgba(0, 0, 0, 0.15);\n",
              "      filter: drop-shadow(0px 1px 2px rgba(0, 0, 0, 0.3));\n",
              "      fill: #FFFFFF;\n",
              "    }\n",
              "  </style>\n",
              "\n",
              "      <script>\n",
              "        const buttonEl =\n",
              "          document.querySelector('#df-e22fe123-5d04-4214-bae0-e8bad3cd6dc6 button.colab-df-convert');\n",
              "        buttonEl.style.display =\n",
              "          google.colab.kernel.accessAllowed ? 'block' : 'none';\n",
              "\n",
              "        async function convertToInteractive(key) {\n",
              "          const element = document.querySelector('#df-e22fe123-5d04-4214-bae0-e8bad3cd6dc6');\n",
              "          const dataTable =\n",
              "            await google.colab.kernel.invokeFunction('convertToInteractive',\n",
              "                                                     [key], {});\n",
              "          if (!dataTable) return;\n",
              "\n",
              "          const docLinkHtml = 'Like what you see? Visit the ' +\n",
              "            '<a target=\"_blank\" href=https://colab.research.google.com/notebooks/data_table.ipynb>data table notebook</a>'\n",
              "            + ' to learn more about interactive tables.';\n",
              "          element.innerHTML = '';\n",
              "          dataTable['output_type'] = 'display_data';\n",
              "          await google.colab.output.renderOutput(dataTable, element);\n",
              "          const docLink = document.createElement('div');\n",
              "          docLink.innerHTML = docLinkHtml;\n",
              "          element.appendChild(docLink);\n",
              "        }\n",
              "      </script>\n",
              "    </div>\n",
              "  </div>\n",
              "  "
            ]
          },
          "metadata": {},
          "execution_count": 34
        }
      ]
    },
    {
      "cell_type": "code",
      "source": [
        "rating_popular_recipe.shape"
      ],
      "metadata": {
        "colab": {
          "base_uri": "https://localhost:8080/"
        },
        "id": "cjTvoTJ25PVP",
        "outputId": "1502cbcf-2fee-493d-c4fb-70f8a3de9dea"
      },
      "execution_count": null,
      "outputs": [
        {
          "output_type": "execute_result",
          "data": {
            "text/plain": [
              "(50519, 5)"
            ]
          },
          "metadata": {},
          "execution_count": 35
        }
      ]
    },
    {
      "cell_type": "code",
      "source": [
        "## First lets create a Pivot matrix\n",
        "recipe_features_df=rating_popular_recipe.pivot_table(index='RecipeName',columns='ReviewId',values='Rating').fillna(0)\n",
        "recipe_features_df.head()"
      ],
      "metadata": {
        "colab": {
          "base_uri": "https://localhost:8080/",
          "height": 380
        },
        "id": "hInmjjKV3Doi",
        "outputId": "1cb9b5ee-729e-41a8-9d8d-996a546626b3"
      },
      "execution_count": null,
      "outputs": [
        {
          "output_type": "execute_result",
          "data": {
            "text/plain": [
              "ReviewId                                17       26       80       98       \\\n",
              "RecipeName                                                                   \n",
              "\"Land of Nod\" Cinnamon Buns                 0.0      0.0      0.0      0.0   \n",
              "&quot; Bar&quot; Cheese                     0.0      0.0      0.0      0.0   \n",
              "'Get Up & Go' Bars                          0.0      0.0      0.0      0.0   \n",
              "15 Bean Soup                                0.0      0.0      0.0      0.0   \n",
              "2- Handed Kitchen Sink Tomato Sandwich      0.0      0.0      0.0      0.0   \n",
              "\n",
              "ReviewId                                111      199      227      234      \\\n",
              "RecipeName                                                                   \n",
              "\"Land of Nod\" Cinnamon Buns                 0.0      0.0      0.0      0.0   \n",
              "&quot; Bar&quot; Cheese                     0.0      0.0      0.0      0.0   \n",
              "'Get Up & Go' Bars                          0.0      0.0      0.0      0.0   \n",
              "15 Bean Soup                                0.0      0.0      0.0      0.0   \n",
              "2- Handed Kitchen Sink Tomato Sandwich      0.0      0.0      0.0      0.0   \n",
              "\n",
              "ReviewId                                243      254      ...  2089662  \\\n",
              "RecipeName                                                ...            \n",
              "\"Land of Nod\" Cinnamon Buns                 0.0      0.0  ...      0.0   \n",
              "&quot; Bar&quot; Cheese                     0.0      0.0  ...      0.0   \n",
              "'Get Up & Go' Bars                          0.0      0.0  ...      0.0   \n",
              "15 Bean Soup                                0.0      0.0  ...      0.0   \n",
              "2- Handed Kitchen Sink Tomato Sandwich      0.0      0.0  ...      0.0   \n",
              "\n",
              "ReviewId                                2089703  2089725  2089983  2090011  \\\n",
              "RecipeName                                                                   \n",
              "\"Land of Nod\" Cinnamon Buns                 0.0      0.0      0.0      0.0   \n",
              "&quot; Bar&quot; Cheese                     0.0      0.0      0.0      0.0   \n",
              "'Get Up & Go' Bars                          0.0      0.0      0.0      0.0   \n",
              "15 Bean Soup                                0.0      0.0      0.0      0.0   \n",
              "2- Handed Kitchen Sink Tomato Sandwich      0.0      0.0      0.0      0.0   \n",
              "\n",
              "ReviewId                                2090046  2090074  2090127  2090211  \\\n",
              "RecipeName                                                                   \n",
              "\"Land of Nod\" Cinnamon Buns                 0.0      0.0      0.0      0.0   \n",
              "&quot; Bar&quot; Cheese                     0.0      0.0      0.0      0.0   \n",
              "'Get Up & Go' Bars                          0.0      0.0      0.0      0.0   \n",
              "15 Bean Soup                                5.0      0.0      0.0      0.0   \n",
              "2- Handed Kitchen Sink Tomato Sandwich      0.0      0.0      0.0      0.0   \n",
              "\n",
              "ReviewId                                2090244  \n",
              "RecipeName                                       \n",
              "\"Land of Nod\" Cinnamon Buns                 0.0  \n",
              "&quot; Bar&quot; Cheese                     0.0  \n",
              "'Get Up & Go' Bars                          0.0  \n",
              "15 Bean Soup                                0.0  \n",
              "2- Handed Kitchen Sink Tomato Sandwich      0.0  \n",
              "\n",
              "[5 rows x 50519 columns]"
            ],
            "text/html": [
              "\n",
              "  <div id=\"df-fea57d89-c9a2-4b45-9e4c-168593039471\">\n",
              "    <div class=\"colab-df-container\">\n",
              "      <div>\n",
              "<style scoped>\n",
              "    .dataframe tbody tr th:only-of-type {\n",
              "        vertical-align: middle;\n",
              "    }\n",
              "\n",
              "    .dataframe tbody tr th {\n",
              "        vertical-align: top;\n",
              "    }\n",
              "\n",
              "    .dataframe thead th {\n",
              "        text-align: right;\n",
              "    }\n",
              "</style>\n",
              "<table border=\"1\" class=\"dataframe\">\n",
              "  <thead>\n",
              "    <tr style=\"text-align: right;\">\n",
              "      <th>ReviewId</th>\n",
              "      <th>17</th>\n",
              "      <th>26</th>\n",
              "      <th>80</th>\n",
              "      <th>98</th>\n",
              "      <th>111</th>\n",
              "      <th>199</th>\n",
              "      <th>227</th>\n",
              "      <th>234</th>\n",
              "      <th>243</th>\n",
              "      <th>254</th>\n",
              "      <th>...</th>\n",
              "      <th>2089662</th>\n",
              "      <th>2089703</th>\n",
              "      <th>2089725</th>\n",
              "      <th>2089983</th>\n",
              "      <th>2090011</th>\n",
              "      <th>2090046</th>\n",
              "      <th>2090074</th>\n",
              "      <th>2090127</th>\n",
              "      <th>2090211</th>\n",
              "      <th>2090244</th>\n",
              "    </tr>\n",
              "    <tr>\n",
              "      <th>RecipeName</th>\n",
              "      <th></th>\n",
              "      <th></th>\n",
              "      <th></th>\n",
              "      <th></th>\n",
              "      <th></th>\n",
              "      <th></th>\n",
              "      <th></th>\n",
              "      <th></th>\n",
              "      <th></th>\n",
              "      <th></th>\n",
              "      <th></th>\n",
              "      <th></th>\n",
              "      <th></th>\n",
              "      <th></th>\n",
              "      <th></th>\n",
              "      <th></th>\n",
              "      <th></th>\n",
              "      <th></th>\n",
              "      <th></th>\n",
              "      <th></th>\n",
              "      <th></th>\n",
              "    </tr>\n",
              "  </thead>\n",
              "  <tbody>\n",
              "    <tr>\n",
              "      <th>\"Land of Nod\" Cinnamon Buns</th>\n",
              "      <td>0.0</td>\n",
              "      <td>0.0</td>\n",
              "      <td>0.0</td>\n",
              "      <td>0.0</td>\n",
              "      <td>0.0</td>\n",
              "      <td>0.0</td>\n",
              "      <td>0.0</td>\n",
              "      <td>0.0</td>\n",
              "      <td>0.0</td>\n",
              "      <td>0.0</td>\n",
              "      <td>...</td>\n",
              "      <td>0.0</td>\n",
              "      <td>0.0</td>\n",
              "      <td>0.0</td>\n",
              "      <td>0.0</td>\n",
              "      <td>0.0</td>\n",
              "      <td>0.0</td>\n",
              "      <td>0.0</td>\n",
              "      <td>0.0</td>\n",
              "      <td>0.0</td>\n",
              "      <td>0.0</td>\n",
              "    </tr>\n",
              "    <tr>\n",
              "      <th>&amp;quot; Bar&amp;quot; Cheese</th>\n",
              "      <td>0.0</td>\n",
              "      <td>0.0</td>\n",
              "      <td>0.0</td>\n",
              "      <td>0.0</td>\n",
              "      <td>0.0</td>\n",
              "      <td>0.0</td>\n",
              "      <td>0.0</td>\n",
              "      <td>0.0</td>\n",
              "      <td>0.0</td>\n",
              "      <td>0.0</td>\n",
              "      <td>...</td>\n",
              "      <td>0.0</td>\n",
              "      <td>0.0</td>\n",
              "      <td>0.0</td>\n",
              "      <td>0.0</td>\n",
              "      <td>0.0</td>\n",
              "      <td>0.0</td>\n",
              "      <td>0.0</td>\n",
              "      <td>0.0</td>\n",
              "      <td>0.0</td>\n",
              "      <td>0.0</td>\n",
              "    </tr>\n",
              "    <tr>\n",
              "      <th>'Get Up &amp; Go' Bars</th>\n",
              "      <td>0.0</td>\n",
              "      <td>0.0</td>\n",
              "      <td>0.0</td>\n",
              "      <td>0.0</td>\n",
              "      <td>0.0</td>\n",
              "      <td>0.0</td>\n",
              "      <td>0.0</td>\n",
              "      <td>0.0</td>\n",
              "      <td>0.0</td>\n",
              "      <td>0.0</td>\n",
              "      <td>...</td>\n",
              "      <td>0.0</td>\n",
              "      <td>0.0</td>\n",
              "      <td>0.0</td>\n",
              "      <td>0.0</td>\n",
              "      <td>0.0</td>\n",
              "      <td>0.0</td>\n",
              "      <td>0.0</td>\n",
              "      <td>0.0</td>\n",
              "      <td>0.0</td>\n",
              "      <td>0.0</td>\n",
              "    </tr>\n",
              "    <tr>\n",
              "      <th>15 Bean Soup</th>\n",
              "      <td>0.0</td>\n",
              "      <td>0.0</td>\n",
              "      <td>0.0</td>\n",
              "      <td>0.0</td>\n",
              "      <td>0.0</td>\n",
              "      <td>0.0</td>\n",
              "      <td>0.0</td>\n",
              "      <td>0.0</td>\n",
              "      <td>0.0</td>\n",
              "      <td>0.0</td>\n",
              "      <td>...</td>\n",
              "      <td>0.0</td>\n",
              "      <td>0.0</td>\n",
              "      <td>0.0</td>\n",
              "      <td>0.0</td>\n",
              "      <td>0.0</td>\n",
              "      <td>5.0</td>\n",
              "      <td>0.0</td>\n",
              "      <td>0.0</td>\n",
              "      <td>0.0</td>\n",
              "      <td>0.0</td>\n",
              "    </tr>\n",
              "    <tr>\n",
              "      <th>2- Handed Kitchen Sink Tomato Sandwich</th>\n",
              "      <td>0.0</td>\n",
              "      <td>0.0</td>\n",
              "      <td>0.0</td>\n",
              "      <td>0.0</td>\n",
              "      <td>0.0</td>\n",
              "      <td>0.0</td>\n",
              "      <td>0.0</td>\n",
              "      <td>0.0</td>\n",
              "      <td>0.0</td>\n",
              "      <td>0.0</td>\n",
              "      <td>...</td>\n",
              "      <td>0.0</td>\n",
              "      <td>0.0</td>\n",
              "      <td>0.0</td>\n",
              "      <td>0.0</td>\n",
              "      <td>0.0</td>\n",
              "      <td>0.0</td>\n",
              "      <td>0.0</td>\n",
              "      <td>0.0</td>\n",
              "      <td>0.0</td>\n",
              "      <td>0.0</td>\n",
              "    </tr>\n",
              "  </tbody>\n",
              "</table>\n",
              "<p>5 rows × 50519 columns</p>\n",
              "</div>\n",
              "      <button class=\"colab-df-convert\" onclick=\"convertToInteractive('df-fea57d89-c9a2-4b45-9e4c-168593039471')\"\n",
              "              title=\"Convert this dataframe to an interactive table.\"\n",
              "              style=\"display:none;\">\n",
              "        \n",
              "  <svg xmlns=\"http://www.w3.org/2000/svg\" height=\"24px\"viewBox=\"0 0 24 24\"\n",
              "       width=\"24px\">\n",
              "    <path d=\"M0 0h24v24H0V0z\" fill=\"none\"/>\n",
              "    <path d=\"M18.56 5.44l.94 2.06.94-2.06 2.06-.94-2.06-.94-.94-2.06-.94 2.06-2.06.94zm-11 1L8.5 8.5l.94-2.06 2.06-.94-2.06-.94L8.5 2.5l-.94 2.06-2.06.94zm10 10l.94 2.06.94-2.06 2.06-.94-2.06-.94-.94-2.06-.94 2.06-2.06.94z\"/><path d=\"M17.41 7.96l-1.37-1.37c-.4-.4-.92-.59-1.43-.59-.52 0-1.04.2-1.43.59L10.3 9.45l-7.72 7.72c-.78.78-.78 2.05 0 2.83L4 21.41c.39.39.9.59 1.41.59.51 0 1.02-.2 1.41-.59l7.78-7.78 2.81-2.81c.8-.78.8-2.07 0-2.86zM5.41 20L4 18.59l7.72-7.72 1.47 1.35L5.41 20z\"/>\n",
              "  </svg>\n",
              "      </button>\n",
              "      \n",
              "  <style>\n",
              "    .colab-df-container {\n",
              "      display:flex;\n",
              "      flex-wrap:wrap;\n",
              "      gap: 12px;\n",
              "    }\n",
              "\n",
              "    .colab-df-convert {\n",
              "      background-color: #E8F0FE;\n",
              "      border: none;\n",
              "      border-radius: 50%;\n",
              "      cursor: pointer;\n",
              "      display: none;\n",
              "      fill: #1967D2;\n",
              "      height: 32px;\n",
              "      padding: 0 0 0 0;\n",
              "      width: 32px;\n",
              "    }\n",
              "\n",
              "    .colab-df-convert:hover {\n",
              "      background-color: #E2EBFA;\n",
              "      box-shadow: 0px 1px 2px rgba(60, 64, 67, 0.3), 0px 1px 3px 1px rgba(60, 64, 67, 0.15);\n",
              "      fill: #174EA6;\n",
              "    }\n",
              "\n",
              "    [theme=dark] .colab-df-convert {\n",
              "      background-color: #3B4455;\n",
              "      fill: #D2E3FC;\n",
              "    }\n",
              "\n",
              "    [theme=dark] .colab-df-convert:hover {\n",
              "      background-color: #434B5C;\n",
              "      box-shadow: 0px 1px 3px 1px rgba(0, 0, 0, 0.15);\n",
              "      filter: drop-shadow(0px 1px 2px rgba(0, 0, 0, 0.3));\n",
              "      fill: #FFFFFF;\n",
              "    }\n",
              "  </style>\n",
              "\n",
              "      <script>\n",
              "        const buttonEl =\n",
              "          document.querySelector('#df-fea57d89-c9a2-4b45-9e4c-168593039471 button.colab-df-convert');\n",
              "        buttonEl.style.display =\n",
              "          google.colab.kernel.accessAllowed ? 'block' : 'none';\n",
              "\n",
              "        async function convertToInteractive(key) {\n",
              "          const element = document.querySelector('#df-fea57d89-c9a2-4b45-9e4c-168593039471');\n",
              "          const dataTable =\n",
              "            await google.colab.kernel.invokeFunction('convertToInteractive',\n",
              "                                                     [key], {});\n",
              "          if (!dataTable) return;\n",
              "\n",
              "          const docLinkHtml = 'Like what you see? Visit the ' +\n",
              "            '<a target=\"_blank\" href=https://colab.research.google.com/notebooks/data_table.ipynb>data table notebook</a>'\n",
              "            + ' to learn more about interactive tables.';\n",
              "          element.innerHTML = '';\n",
              "          dataTable['output_type'] = 'display_data';\n",
              "          await google.colab.output.renderOutput(dataTable, element);\n",
              "          const docLink = document.createElement('div');\n",
              "          docLink.innerHTML = docLinkHtml;\n",
              "          element.appendChild(docLink);\n",
              "        }\n",
              "      </script>\n",
              "    </div>\n",
              "  </div>\n",
              "  "
            ]
          },
          "metadata": {},
          "execution_count": 36
        }
      ]
    },
    {
      "cell_type": "code",
      "source": [
        "from scipy.sparse import csr_matrix\n",
        "\n",
        "recipe_features_df_matrix = csr_matrix(recipe_features_df.values)\n",
        "\n",
        "from sklearn.neighbors import NearestNeighbors\n",
        "\n",
        "\n",
        "model_knn = NearestNeighbors(metric = 'cosine', algorithm = 'brute')\n",
        "model_knn.fit(recipe_features_df_matrix)"
      ],
      "metadata": {
        "colab": {
          "base_uri": "https://localhost:8080/"
        },
        "id": "4zyvjlJD5x3C",
        "outputId": "570d3280-2d7c-4b4d-f5cd-6e39eb10ca68"
      },
      "execution_count": null,
      "outputs": [
        {
          "output_type": "execute_result",
          "data": {
            "text/plain": [
              "NearestNeighbors(algorithm='brute', metric='cosine')"
            ]
          },
          "metadata": {},
          "execution_count": 37
        }
      ]
    },
    {
      "cell_type": "code",
      "source": [
        "recipe_features_df.shape"
      ],
      "metadata": {
        "colab": {
          "base_uri": "https://localhost:8080/"
        },
        "id": "Fhio8lD96Civ",
        "outputId": "1dbd80d2-26c7-4625-9cf8-e2fac882ee35"
      },
      "execution_count": null,
      "outputs": [
        {
          "output_type": "execute_result",
          "data": {
            "text/plain": [
              "(677, 50519)"
            ]
          },
          "metadata": {},
          "execution_count": 38
        }
      ]
    },
    {
      "cell_type": "code",
      "source": [
        "import numpy as np\n",
        "query_index = np.random.choice(recipe_features_df.shape[0])\n",
        "print(query_index)\n",
        "distances, indices = model_knn.kneighbors(recipe_features_df.iloc[query_index,:].values.reshape(1, -1), n_neighbors = 6)"
      ],
      "metadata": {
        "colab": {
          "base_uri": "https://localhost:8080/"
        },
        "id": "6y_wvUJ36RXn",
        "outputId": "8b85cae7-f521-4d81-e91a-f1a302401cfb"
      },
      "execution_count": null,
      "outputs": [
        {
          "output_type": "stream",
          "name": "stdout",
          "text": [
            "446\n"
          ]
        }
      ]
    },
    {
      "cell_type": "code",
      "source": [
        "recipe_features_df.head()"
      ],
      "metadata": {
        "colab": {
          "base_uri": "https://localhost:8080/",
          "height": 380
        },
        "id": "ZVFH3BXL6efD",
        "outputId": "e964db6a-813d-489a-c556-e1685fc03ec1"
      },
      "execution_count": null,
      "outputs": [
        {
          "output_type": "execute_result",
          "data": {
            "text/plain": [
              "ReviewId                                17       26       80       98       \\\n",
              "RecipeName                                                                   \n",
              "\"Land of Nod\" Cinnamon Buns                 0.0      0.0      0.0      0.0   \n",
              "&quot; Bar&quot; Cheese                     0.0      0.0      0.0      0.0   \n",
              "'Get Up & Go' Bars                          0.0      0.0      0.0      0.0   \n",
              "15 Bean Soup                                0.0      0.0      0.0      0.0   \n",
              "2- Handed Kitchen Sink Tomato Sandwich      0.0      0.0      0.0      0.0   \n",
              "\n",
              "ReviewId                                111      199      227      234      \\\n",
              "RecipeName                                                                   \n",
              "\"Land of Nod\" Cinnamon Buns                 0.0      0.0      0.0      0.0   \n",
              "&quot; Bar&quot; Cheese                     0.0      0.0      0.0      0.0   \n",
              "'Get Up & Go' Bars                          0.0      0.0      0.0      0.0   \n",
              "15 Bean Soup                                0.0      0.0      0.0      0.0   \n",
              "2- Handed Kitchen Sink Tomato Sandwich      0.0      0.0      0.0      0.0   \n",
              "\n",
              "ReviewId                                243      254      ...  2089662  \\\n",
              "RecipeName                                                ...            \n",
              "\"Land of Nod\" Cinnamon Buns                 0.0      0.0  ...      0.0   \n",
              "&quot; Bar&quot; Cheese                     0.0      0.0  ...      0.0   \n",
              "'Get Up & Go' Bars                          0.0      0.0  ...      0.0   \n",
              "15 Bean Soup                                0.0      0.0  ...      0.0   \n",
              "2- Handed Kitchen Sink Tomato Sandwich      0.0      0.0  ...      0.0   \n",
              "\n",
              "ReviewId                                2089703  2089725  2089983  2090011  \\\n",
              "RecipeName                                                                   \n",
              "\"Land of Nod\" Cinnamon Buns                 0.0      0.0      0.0      0.0   \n",
              "&quot; Bar&quot; Cheese                     0.0      0.0      0.0      0.0   \n",
              "'Get Up & Go' Bars                          0.0      0.0      0.0      0.0   \n",
              "15 Bean Soup                                0.0      0.0      0.0      0.0   \n",
              "2- Handed Kitchen Sink Tomato Sandwich      0.0      0.0      0.0      0.0   \n",
              "\n",
              "ReviewId                                2090046  2090074  2090127  2090211  \\\n",
              "RecipeName                                                                   \n",
              "\"Land of Nod\" Cinnamon Buns                 0.0      0.0      0.0      0.0   \n",
              "&quot; Bar&quot; Cheese                     0.0      0.0      0.0      0.0   \n",
              "'Get Up & Go' Bars                          0.0      0.0      0.0      0.0   \n",
              "15 Bean Soup                                5.0      0.0      0.0      0.0   \n",
              "2- Handed Kitchen Sink Tomato Sandwich      0.0      0.0      0.0      0.0   \n",
              "\n",
              "ReviewId                                2090244  \n",
              "RecipeName                                       \n",
              "\"Land of Nod\" Cinnamon Buns                 0.0  \n",
              "&quot; Bar&quot; Cheese                     0.0  \n",
              "'Get Up & Go' Bars                          0.0  \n",
              "15 Bean Soup                                0.0  \n",
              "2- Handed Kitchen Sink Tomato Sandwich      0.0  \n",
              "\n",
              "[5 rows x 50519 columns]"
            ],
            "text/html": [
              "\n",
              "  <div id=\"df-1e813522-ce10-4145-bc70-95d20a889e4a\">\n",
              "    <div class=\"colab-df-container\">\n",
              "      <div>\n",
              "<style scoped>\n",
              "    .dataframe tbody tr th:only-of-type {\n",
              "        vertical-align: middle;\n",
              "    }\n",
              "\n",
              "    .dataframe tbody tr th {\n",
              "        vertical-align: top;\n",
              "    }\n",
              "\n",
              "    .dataframe thead th {\n",
              "        text-align: right;\n",
              "    }\n",
              "</style>\n",
              "<table border=\"1\" class=\"dataframe\">\n",
              "  <thead>\n",
              "    <tr style=\"text-align: right;\">\n",
              "      <th>ReviewId</th>\n",
              "      <th>17</th>\n",
              "      <th>26</th>\n",
              "      <th>80</th>\n",
              "      <th>98</th>\n",
              "      <th>111</th>\n",
              "      <th>199</th>\n",
              "      <th>227</th>\n",
              "      <th>234</th>\n",
              "      <th>243</th>\n",
              "      <th>254</th>\n",
              "      <th>...</th>\n",
              "      <th>2089662</th>\n",
              "      <th>2089703</th>\n",
              "      <th>2089725</th>\n",
              "      <th>2089983</th>\n",
              "      <th>2090011</th>\n",
              "      <th>2090046</th>\n",
              "      <th>2090074</th>\n",
              "      <th>2090127</th>\n",
              "      <th>2090211</th>\n",
              "      <th>2090244</th>\n",
              "    </tr>\n",
              "    <tr>\n",
              "      <th>RecipeName</th>\n",
              "      <th></th>\n",
              "      <th></th>\n",
              "      <th></th>\n",
              "      <th></th>\n",
              "      <th></th>\n",
              "      <th></th>\n",
              "      <th></th>\n",
              "      <th></th>\n",
              "      <th></th>\n",
              "      <th></th>\n",
              "      <th></th>\n",
              "      <th></th>\n",
              "      <th></th>\n",
              "      <th></th>\n",
              "      <th></th>\n",
              "      <th></th>\n",
              "      <th></th>\n",
              "      <th></th>\n",
              "      <th></th>\n",
              "      <th></th>\n",
              "      <th></th>\n",
              "    </tr>\n",
              "  </thead>\n",
              "  <tbody>\n",
              "    <tr>\n",
              "      <th>\"Land of Nod\" Cinnamon Buns</th>\n",
              "      <td>0.0</td>\n",
              "      <td>0.0</td>\n",
              "      <td>0.0</td>\n",
              "      <td>0.0</td>\n",
              "      <td>0.0</td>\n",
              "      <td>0.0</td>\n",
              "      <td>0.0</td>\n",
              "      <td>0.0</td>\n",
              "      <td>0.0</td>\n",
              "      <td>0.0</td>\n",
              "      <td>...</td>\n",
              "      <td>0.0</td>\n",
              "      <td>0.0</td>\n",
              "      <td>0.0</td>\n",
              "      <td>0.0</td>\n",
              "      <td>0.0</td>\n",
              "      <td>0.0</td>\n",
              "      <td>0.0</td>\n",
              "      <td>0.0</td>\n",
              "      <td>0.0</td>\n",
              "      <td>0.0</td>\n",
              "    </tr>\n",
              "    <tr>\n",
              "      <th>&amp;quot; Bar&amp;quot; Cheese</th>\n",
              "      <td>0.0</td>\n",
              "      <td>0.0</td>\n",
              "      <td>0.0</td>\n",
              "      <td>0.0</td>\n",
              "      <td>0.0</td>\n",
              "      <td>0.0</td>\n",
              "      <td>0.0</td>\n",
              "      <td>0.0</td>\n",
              "      <td>0.0</td>\n",
              "      <td>0.0</td>\n",
              "      <td>...</td>\n",
              "      <td>0.0</td>\n",
              "      <td>0.0</td>\n",
              "      <td>0.0</td>\n",
              "      <td>0.0</td>\n",
              "      <td>0.0</td>\n",
              "      <td>0.0</td>\n",
              "      <td>0.0</td>\n",
              "      <td>0.0</td>\n",
              "      <td>0.0</td>\n",
              "      <td>0.0</td>\n",
              "    </tr>\n",
              "    <tr>\n",
              "      <th>'Get Up &amp; Go' Bars</th>\n",
              "      <td>0.0</td>\n",
              "      <td>0.0</td>\n",
              "      <td>0.0</td>\n",
              "      <td>0.0</td>\n",
              "      <td>0.0</td>\n",
              "      <td>0.0</td>\n",
              "      <td>0.0</td>\n",
              "      <td>0.0</td>\n",
              "      <td>0.0</td>\n",
              "      <td>0.0</td>\n",
              "      <td>...</td>\n",
              "      <td>0.0</td>\n",
              "      <td>0.0</td>\n",
              "      <td>0.0</td>\n",
              "      <td>0.0</td>\n",
              "      <td>0.0</td>\n",
              "      <td>0.0</td>\n",
              "      <td>0.0</td>\n",
              "      <td>0.0</td>\n",
              "      <td>0.0</td>\n",
              "      <td>0.0</td>\n",
              "    </tr>\n",
              "    <tr>\n",
              "      <th>15 Bean Soup</th>\n",
              "      <td>0.0</td>\n",
              "      <td>0.0</td>\n",
              "      <td>0.0</td>\n",
              "      <td>0.0</td>\n",
              "      <td>0.0</td>\n",
              "      <td>0.0</td>\n",
              "      <td>0.0</td>\n",
              "      <td>0.0</td>\n",
              "      <td>0.0</td>\n",
              "      <td>0.0</td>\n",
              "      <td>...</td>\n",
              "      <td>0.0</td>\n",
              "      <td>0.0</td>\n",
              "      <td>0.0</td>\n",
              "      <td>0.0</td>\n",
              "      <td>0.0</td>\n",
              "      <td>5.0</td>\n",
              "      <td>0.0</td>\n",
              "      <td>0.0</td>\n",
              "      <td>0.0</td>\n",
              "      <td>0.0</td>\n",
              "    </tr>\n",
              "    <tr>\n",
              "      <th>2- Handed Kitchen Sink Tomato Sandwich</th>\n",
              "      <td>0.0</td>\n",
              "      <td>0.0</td>\n",
              "      <td>0.0</td>\n",
              "      <td>0.0</td>\n",
              "      <td>0.0</td>\n",
              "      <td>0.0</td>\n",
              "      <td>0.0</td>\n",
              "      <td>0.0</td>\n",
              "      <td>0.0</td>\n",
              "      <td>0.0</td>\n",
              "      <td>...</td>\n",
              "      <td>0.0</td>\n",
              "      <td>0.0</td>\n",
              "      <td>0.0</td>\n",
              "      <td>0.0</td>\n",
              "      <td>0.0</td>\n",
              "      <td>0.0</td>\n",
              "      <td>0.0</td>\n",
              "      <td>0.0</td>\n",
              "      <td>0.0</td>\n",
              "      <td>0.0</td>\n",
              "    </tr>\n",
              "  </tbody>\n",
              "</table>\n",
              "<p>5 rows × 50519 columns</p>\n",
              "</div>\n",
              "      <button class=\"colab-df-convert\" onclick=\"convertToInteractive('df-1e813522-ce10-4145-bc70-95d20a889e4a')\"\n",
              "              title=\"Convert this dataframe to an interactive table.\"\n",
              "              style=\"display:none;\">\n",
              "        \n",
              "  <svg xmlns=\"http://www.w3.org/2000/svg\" height=\"24px\"viewBox=\"0 0 24 24\"\n",
              "       width=\"24px\">\n",
              "    <path d=\"M0 0h24v24H0V0z\" fill=\"none\"/>\n",
              "    <path d=\"M18.56 5.44l.94 2.06.94-2.06 2.06-.94-2.06-.94-.94-2.06-.94 2.06-2.06.94zm-11 1L8.5 8.5l.94-2.06 2.06-.94-2.06-.94L8.5 2.5l-.94 2.06-2.06.94zm10 10l.94 2.06.94-2.06 2.06-.94-2.06-.94-.94-2.06-.94 2.06-2.06.94z\"/><path d=\"M17.41 7.96l-1.37-1.37c-.4-.4-.92-.59-1.43-.59-.52 0-1.04.2-1.43.59L10.3 9.45l-7.72 7.72c-.78.78-.78 2.05 0 2.83L4 21.41c.39.39.9.59 1.41.59.51 0 1.02-.2 1.41-.59l7.78-7.78 2.81-2.81c.8-.78.8-2.07 0-2.86zM5.41 20L4 18.59l7.72-7.72 1.47 1.35L5.41 20z\"/>\n",
              "  </svg>\n",
              "      </button>\n",
              "      \n",
              "  <style>\n",
              "    .colab-df-container {\n",
              "      display:flex;\n",
              "      flex-wrap:wrap;\n",
              "      gap: 12px;\n",
              "    }\n",
              "\n",
              "    .colab-df-convert {\n",
              "      background-color: #E8F0FE;\n",
              "      border: none;\n",
              "      border-radius: 50%;\n",
              "      cursor: pointer;\n",
              "      display: none;\n",
              "      fill: #1967D2;\n",
              "      height: 32px;\n",
              "      padding: 0 0 0 0;\n",
              "      width: 32px;\n",
              "    }\n",
              "\n",
              "    .colab-df-convert:hover {\n",
              "      background-color: #E2EBFA;\n",
              "      box-shadow: 0px 1px 2px rgba(60, 64, 67, 0.3), 0px 1px 3px 1px rgba(60, 64, 67, 0.15);\n",
              "      fill: #174EA6;\n",
              "    }\n",
              "\n",
              "    [theme=dark] .colab-df-convert {\n",
              "      background-color: #3B4455;\n",
              "      fill: #D2E3FC;\n",
              "    }\n",
              "\n",
              "    [theme=dark] .colab-df-convert:hover {\n",
              "      background-color: #434B5C;\n",
              "      box-shadow: 0px 1px 3px 1px rgba(0, 0, 0, 0.15);\n",
              "      filter: drop-shadow(0px 1px 2px rgba(0, 0, 0, 0.3));\n",
              "      fill: #FFFFFF;\n",
              "    }\n",
              "  </style>\n",
              "\n",
              "      <script>\n",
              "        const buttonEl =\n",
              "          document.querySelector('#df-1e813522-ce10-4145-bc70-95d20a889e4a button.colab-df-convert');\n",
              "        buttonEl.style.display =\n",
              "          google.colab.kernel.accessAllowed ? 'block' : 'none';\n",
              "\n",
              "        async function convertToInteractive(key) {\n",
              "          const element = document.querySelector('#df-1e813522-ce10-4145-bc70-95d20a889e4a');\n",
              "          const dataTable =\n",
              "            await google.colab.kernel.invokeFunction('convertToInteractive',\n",
              "                                                     [key], {});\n",
              "          if (!dataTable) return;\n",
              "\n",
              "          const docLinkHtml = 'Like what you see? Visit the ' +\n",
              "            '<a target=\"_blank\" href=https://colab.research.google.com/notebooks/data_table.ipynb>data table notebook</a>'\n",
              "            + ' to learn more about interactive tables.';\n",
              "          element.innerHTML = '';\n",
              "          dataTable['output_type'] = 'display_data';\n",
              "          await google.colab.output.renderOutput(dataTable, element);\n",
              "          const docLink = document.createElement('div');\n",
              "          docLink.innerHTML = docLinkHtml;\n",
              "          element.appendChild(docLink);\n",
              "        }\n",
              "      </script>\n",
              "    </div>\n",
              "  </div>\n",
              "  "
            ]
          },
          "metadata": {},
          "execution_count": 40
        }
      ]
    },
    {
      "cell_type": "code",
      "source": [
        "for i in range(0, len(distances.flatten())):\n",
        "    if i == 0:\n",
        "        print('Recommendations for {0}:\\n'.format(recipe_features_df.index[query_index]))\n",
        "    else:\n",
        "        print('{0}: {1}, with distance of {2}:'.format(i, recipe_features_df.index[indices.flatten()[i]], distances.flatten()[i]))"
      ],
      "metadata": {
        "colab": {
          "base_uri": "https://localhost:8080/"
        },
        "id": "0gmX2D2n6jSN",
        "outputId": "057cab03-eb9e-44c4-a598-cb957e9d3df3"
      },
      "execution_count": null,
      "outputs": [
        {
          "output_type": "stream",
          "name": "stdout",
          "text": [
            "Recommendations for Oatmeal Carmelitas:\n",
            "\n",
            "1: Oatmeal Pancakes, with distance of 1.0:\n",
            "2: Olive Garden Salad Dressing, with distance of 1.0:\n",
            "3: Oatmeal Waffles or Pancakes, with distance of 1.0:\n",
            "4: Orange Chicken, with distance of 1.0:\n",
            "5: Oatmeal Raisin Cookies, with distance of 1.0:\n"
          ]
        }
      ]
    }
  ],
  "metadata": {
    "colab": {
      "collapsed_sections": [],
      "name": "MLModelCode.ipynb",
      "provenance": []
    },
    "kernelspec": {
      "display_name": "Python 3",
      "name": "python3"
    },
    "language_info": {
      "name": "python"
    }
  },
  "nbformat": 4,
  "nbformat_minor": 0
}